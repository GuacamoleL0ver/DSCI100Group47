{
 "cells": [
  {
   "cell_type": "code",
   "execution_count": 1,
   "id": "3f4429c3-09b3-4688-bdfb-a9288843aa15",
   "metadata": {},
   "outputs": [],
   "source": [
    "suppressMessages(library(tidyverse)) #loading libraries, suppresses warning messages.\n",
    "suppressMessages(library(tidymodels)) \n",
    "suppressMessages(library(repr))\n",
    "suppressMessages(library(GGally))\n",
    "\n",
    "set.seed(4747) #setting seed for reproducibility's sake. 47 is hexadecimal for g, and our group number \"g47\""
   ]
  },
  {
   "cell_type": "code",
   "execution_count": null,
   "id": "b65dc99a-0a5c-42d0-86e1-afd5fa69f203",
   "metadata": {},
   "outputs": [],
   "source": [
    "url <- \"https://drive.google.com/uc?export=download&id=1_MECmUXZuuILYeEOfonSGqodW6qVdhsS\"\n",
    "dir.create(\"data\")\n",
    "download.file(url, \"data/top500players.csv\") # creates directory \"data\" and downloads the data used into the folder\n",
    "\n",
    "### RUN THIS BLOCK ONLY ONCE "
   ]
  },
  {
   "cell_type": "code",
   "execution_count": 2,
   "id": "8a94926e-57c0-4cf1-9e0e-c0006f7a3864",
   "metadata": {},
   "outputs": [
    {
     "name": "stderr",
     "output_type": "stream",
     "text": [
      "New names:\n",
      "* `` -> ...1\n",
      "\n"
     ]
    },
    {
     "name": "stdout",
     "output_type": "stream",
     "text": [
      "Rows: 500\n",
      "Columns: 38\n",
      "$ ...1               \u001b[3m\u001b[90m<dbl>\u001b[39m\u001b[23m 0, 1, 2, 3, 4, 5, 6, 7, 8, 9, 10, 11, 12, 13, 14, 1~\n",
      "$ Age                \u001b[3m\u001b[90m<chr>\u001b[39m\u001b[23m \"26 (25-04-1993)\", \"18 (22-12-2001)\", \"32 (03-11-19~\n",
      "$ Country            \u001b[3m\u001b[90m<chr>\u001b[39m\u001b[23m \"Brazil\", \"United Kingdom\", \"Slovakia\", \"Korea, Rep~\n",
      "$ Plays              \u001b[3m\u001b[90m<chr>\u001b[39m\u001b[23m \"Right-handed\", \"Left-handed\", \"Right-handed\", \"Rig~\n",
      "$ Wikipedia          \u001b[3m\u001b[90m<chr>\u001b[39m\u001b[23m \"Wikipedia\", \"Wikipedia\", \"Wikipedia\", \"Wikipedia\",~\n",
      "$ `Current Rank`     \u001b[3m\u001b[90m<chr>\u001b[39m\u001b[23m \"378 (97)\", \"326 (119)\", \"178 (280)\", \"236 (199)\", ~\n",
      "$ `Best Rank`        \u001b[3m\u001b[90m<chr>\u001b[39m\u001b[23m \"363 (04-11-2019)\", \"316 (14-10-2019)\", \"44 (14-01-~\n",
      "$ Name               \u001b[3m\u001b[90m<chr>\u001b[39m\u001b[23m \"Oscar Jose Gutierrez\", \"Jack Draper\", \"Lukas Lacko~\n",
      "$ Backhand           \u001b[3m\u001b[90m<chr>\u001b[39m\u001b[23m NA, \"Two-handed\", \"Two-handed\", \"Two-handed\", \"Two-~\n",
      "$ `Prize Money`      \u001b[3m\u001b[90m<chr>\u001b[39m\u001b[23m NA, \"$59,040\", \"US$3,261,567\", \"$374,093\", \"US$6,09~\n",
      "$ Height             \u001b[3m\u001b[90m<chr>\u001b[39m\u001b[23m NA, NA, \"185 cm\", NA, \"193 cm\", NA, NA, NA, NA, NA,~\n",
      "$ `Favorite Surface` \u001b[3m\u001b[90m<chr>\u001b[39m\u001b[23m NA, NA, \"Fast (H, G) 40%\", NA, \"Fast (H, G) 36%\", \"~\n",
      "$ `Turned Pro`       \u001b[3m\u001b[90m<dbl>\u001b[39m\u001b[23m NA, NA, 2005, NA, 2008, 2015, 2010, NA, NA, NA, 201~\n",
      "$ Seasons            \u001b[3m\u001b[90m<dbl>\u001b[39m\u001b[23m NA, NA, 14, 2, 11, 5, 1, 1, 5, 3, 3, 5, 8, NA, 5, 1~\n",
      "$ Active             \u001b[3m\u001b[90m<chr>\u001b[39m\u001b[23m NA, NA, \"Yes\", \"Yes\", \"Yes\", \"Yes\", NA, \"Yes\", \"Yes~\n",
      "$ `Current Elo Rank` \u001b[3m\u001b[90m<chr>\u001b[39m\u001b[23m NA, NA, \"144 (1764)\", NA, \"100 (1826)\", \"33 (1983)\"~\n",
      "$ `Best Elo Rank`    \u001b[3m\u001b[90m<chr>\u001b[39m\u001b[23m NA, NA, \"60 (06-02-2012)\", NA, \"21 (23-03-2015)\", \"~\n",
      "$ `Peak Elo Rating`  \u001b[3m\u001b[90m<chr>\u001b[39m\u001b[23m NA, NA, \"1886 (06-02-2012)\", NA, \"2037 (01-02-2016)~\n",
      "$ `Last Appearance`  \u001b[3m\u001b[90m<chr>\u001b[39m\u001b[23m NA, NA, \"18-03-2019\", \"19-08-2019\", \"14-10-2019\", \"~\n",
      "$ Titles             \u001b[3m\u001b[90m<dbl>\u001b[39m\u001b[23m NA, NA, NA, NA, 4, 1, NA, NA, NA, NA, NA, 7, NA, NA~\n",
      "$ `GOAT Rank`        \u001b[3m\u001b[90m<chr>\u001b[39m\u001b[23m NA, NA, NA, NA, \"264 (6)\", \"489 (1)\", NA, NA, NA, N~\n",
      "$ `Best Season`      \u001b[3m\u001b[90m<dbl>\u001b[39m\u001b[23m NA, NA, NA, NA, 2015, 2019, NA, NA, NA, NA, 2019, 2~\n",
      "$ Retired            \u001b[3m\u001b[90m<dbl>\u001b[39m\u001b[23m NA, NA, NA, NA, NA, NA, 2017, NA, NA, NA, NA, NA, N~\n",
      "$ Masters            \u001b[3m\u001b[90m<dbl>\u001b[39m\u001b[23m NA, NA, NA, NA, NA, NA, NA, NA, NA, NA, NA, 2, NA, ~\n",
      "$ Birthplace         \u001b[3m\u001b[90m<chr>\u001b[39m\u001b[23m NA, NA, NA, NA, NA, NA, NA, NA, NA, NA, NA, NA, NA,~\n",
      "$ Residence          \u001b[3m\u001b[90m<chr>\u001b[39m\u001b[23m NA, NA, NA, NA, NA, NA, NA, NA, NA, NA, NA, NA, NA,~\n",
      "$ Weight             \u001b[3m\u001b[90m<chr>\u001b[39m\u001b[23m NA, NA, NA, NA, NA, NA, NA, NA, NA, NA, NA, NA, NA,~\n",
      "$ Coach              \u001b[3m\u001b[90m<chr>\u001b[39m\u001b[23m NA, NA, NA, NA, NA, NA, NA, NA, NA, NA, NA, NA, NA,~\n",
      "$ Facebook           \u001b[3m\u001b[90m<chr>\u001b[39m\u001b[23m NA, NA, NA, NA, NA, NA, NA, NA, NA, NA, NA, NA, NA,~\n",
      "$ Twitter            \u001b[3m\u001b[90m<chr>\u001b[39m\u001b[23m NA, NA, NA, NA, NA, NA, NA, NA, NA, NA, NA, NA, NA,~\n",
      "$ Nicknames          \u001b[3m\u001b[90m<chr>\u001b[39m\u001b[23m NA, NA, NA, NA, NA, NA, NA, NA, NA, NA, NA, NA, NA,~\n",
      "$ `Grand Slams`      \u001b[3m\u001b[90m<dbl>\u001b[39m\u001b[23m NA, NA, NA, NA, NA, NA, NA, NA, NA, NA, NA, NA, NA,~\n",
      "$ `Davis Cups`       \u001b[3m\u001b[90m<dbl>\u001b[39m\u001b[23m NA, NA, NA, NA, NA, NA, NA, NA, NA, NA, NA, NA, NA,~\n",
      "$ `Web Site`         \u001b[3m\u001b[90m<chr>\u001b[39m\u001b[23m NA, NA, NA, NA, NA, NA, NA, NA, NA, NA, NA, NA, NA,~\n",
      "$ `Team Cups`        \u001b[3m\u001b[90m<dbl>\u001b[39m\u001b[23m NA, NA, NA, NA, NA, NA, NA, NA, NA, NA, NA, NA, NA,~\n",
      "$ Olympics           \u001b[3m\u001b[90m<dbl>\u001b[39m\u001b[23m NA, NA, NA, NA, NA, NA, NA, NA, NA, NA, NA, NA, NA,~\n",
      "$ `Weeks at No. 1`   \u001b[3m\u001b[90m<dbl>\u001b[39m\u001b[23m NA, NA, NA, NA, NA, NA, NA, NA, NA, NA, NA, NA, NA,~\n",
      "$ `Tour Finals`      \u001b[3m\u001b[90m<dbl>\u001b[39m\u001b[23m NA, NA, NA, NA, NA, NA, NA, NA, NA, NA, NA, NA, NA,~\n"
     ]
    }
   ],
   "source": [
    "player_data <- read_csv(\"data/top500players.csv\", show_col_types = FALSE)\n",
    "glimpse(player_data)"
   ]
  },
  {
   "cell_type": "code",
   "execution_count": 3,
   "id": "2b3db390-f1c9-44cf-91af-ec43a009d875",
   "metadata": {},
   "outputs": [
    {
     "data": {
      "text/html": [
       "<table class=\"dataframe\">\n",
       "<caption>A tibble: 6 × 6</caption>\n",
       "<thead>\n",
       "\t<tr><th scope=col>Name</th><th scope=col>Age</th><th scope=col>Prize.Money</th><th scope=col>Seasons</th><th scope=col>Current.Rank</th><th scope=col>Best.Rank</th></tr>\n",
       "\t<tr><th scope=col>&lt;chr&gt;</th><th scope=col>&lt;dbl&gt;</th><th scope=col>&lt;dbl&gt;</th><th scope=col>&lt;dbl&gt;</th><th scope=col>&lt;dbl&gt;</th><th scope=col>&lt;dbl&gt;</th></tr>\n",
       "</thead>\n",
       "<tbody>\n",
       "\t<tr><td>Lukas Lacko          </td><td>32</td><td> 3261567</td><td>14</td><td>144</td><td> 60</td></tr>\n",
       "\t<tr><td>Bernard Tomic        </td><td>27</td><td> 6091971</td><td>11</td><td>100</td><td> 21</td></tr>\n",
       "\t<tr><td>Hubert Hurkacz       </td><td>22</td><td> 1517157</td><td> 5</td><td> 33</td><td> 33</td></tr>\n",
       "\t<tr><td>Sanjar Fayziev       </td><td>25</td><td>  122734</td><td> 5</td><td>189</td><td>187</td></tr>\n",
       "\t<tr><td>Felix Auger Aliassime</td><td>19</td><td> 1893476</td><td> 3</td><td> 51</td><td> 30</td></tr>\n",
       "\t<tr><td>Daniil Medvedev      </td><td>23</td><td>10507693</td><td> 5</td><td>  5</td><td>  4</td></tr>\n",
       "</tbody>\n",
       "</table>\n"
      ],
      "text/latex": [
       "A tibble: 6 × 6\n",
       "\\begin{tabular}{llllll}\n",
       " Name & Age & Prize.Money & Seasons & Current.Rank & Best.Rank\\\\\n",
       " <chr> & <dbl> & <dbl> & <dbl> & <dbl> & <dbl>\\\\\n",
       "\\hline\n",
       "\t Lukas Lacko           & 32 &  3261567 & 14 & 144 &  60\\\\\n",
       "\t Bernard Tomic         & 27 &  6091971 & 11 & 100 &  21\\\\\n",
       "\t Hubert Hurkacz        & 22 &  1517157 &  5 &  33 &  33\\\\\n",
       "\t Sanjar Fayziev        & 25 &   122734 &  5 & 189 & 187\\\\\n",
       "\t Felix Auger Aliassime & 19 &  1893476 &  3 &  51 &  30\\\\\n",
       "\t Daniil Medvedev       & 23 & 10507693 &  5 &   5 &   4\\\\\n",
       "\\end{tabular}\n"
      ],
      "text/markdown": [
       "\n",
       "A tibble: 6 × 6\n",
       "\n",
       "| Name &lt;chr&gt; | Age &lt;dbl&gt; | Prize.Money &lt;dbl&gt; | Seasons &lt;dbl&gt; | Current.Rank &lt;dbl&gt; | Best.Rank &lt;dbl&gt; |\n",
       "|---|---|---|---|---|---|\n",
       "| Lukas Lacko           | 32 |  3261567 | 14 | 144 |  60 |\n",
       "| Bernard Tomic         | 27 |  6091971 | 11 | 100 |  21 |\n",
       "| Hubert Hurkacz        | 22 |  1517157 |  5 |  33 |  33 |\n",
       "| Sanjar Fayziev        | 25 |   122734 |  5 | 189 | 187 |\n",
       "| Felix Auger Aliassime | 19 |  1893476 |  3 |  51 |  30 |\n",
       "| Daniil Medvedev       | 23 | 10507693 |  5 |   5 |   4 |\n",
       "\n"
      ],
      "text/plain": [
       "  Name                  Age Prize.Money Seasons Current.Rank Best.Rank\n",
       "1 Lukas Lacko           32   3261567    14      144           60      \n",
       "2 Bernard Tomic         27   6091971    11      100           21      \n",
       "3 Hubert Hurkacz        22   1517157     5       33           33      \n",
       "4 Sanjar Fayziev        25    122734     5      189          187      \n",
       "5 Felix Auger Aliassime 19   1893476     3       51           30      \n",
       "6 Daniil Medvedev       23  10507693     5        5            4      "
      ]
     },
     "metadata": {},
     "output_type": "display_data"
    }
   ],
   "source": [
    "colnames(player_data) <- make.names(colnames(player_data))\n",
    "player_data_tidy <- player_data |>\n",
    "                        separate(Best.Elo.Rank, c(\"Best.Rank\", NA), sep = \" \") |> #Removes the date next to the all-time best ranks\n",
    "                        separate(Current.Elo.Rank, c(\"Current.Rank\", NA), sep = \" \") |> #Removes the elo next to the ranks\n",
    "                        separate(Age, c(\"Age\", NA), sep = \" \") |>\n",
    "                            select(Name, Age, Prize.Money, Seasons, Current.Rank, Best.Rank) |>\n",
    "                         mutate(Prize.Money = gsub(\"[a-zA-Z$, -]\", \"\", Prize.Money)) |> #removes all string chars next to numbers, US$ etc.\n",
    "                         mutate(Prize.Money = as.numeric(Prize.Money)) |>\n",
    "                         mutate(Best.Rank = as.numeric(Best.Rank)) |>\n",
    "                         mutate(Current.Rank = as.numeric(Current.Rank)) |>\n",
    "                         mutate(Age = as.numeric(Age)) |>\n",
    "                        na.omit()\n",
    "\n",
    "head(player_data_tidy)"
   ]
  },
  {
   "cell_type": "code",
   "execution_count": 4,
   "id": "10b4e711-09c3-44e9-b10d-9c81df309724",
   "metadata": {},
   "outputs": [
    {
     "data": {
      "image/png": "[encoded data removed]",
      "text/plain": [
       "plot without title"
      ]
     },
     "metadata": {
      "image/png": {
       "height": 420,
       "width": 480
      }
     },
     "output_type": "display_data"
    }
   ],
   "source": [
    "options(repr.plot.length = 10, repr.plot.width = 8)\n",
    "\n",
    "SeasonsVsRank <- ggplot(player_data_tidy, aes(x = Seasons, y = Current.Rank)) + \n",
    "                    geom_smooth(method = \"lm\", colour = \"red\", formula = y ~ x, se = FALSE) + #Line of best fit, helps in seeing relationship\n",
    "                    geom_point(colour = \"blue\", alpha = 0.4) +\n",
    "                     labs(x = \"Seasons Played\", y = \"Current Rank\", title = \"Seasons vs Rank (lower is better)\") + \n",
    "                     theme(text = element_text(size = 17)) #legend could be added\n",
    "\n",
    "\n",
    "AgeVsSeasons <- ggplot(player_data_tidy, aes(x = Age, y = Seasons)) + \n",
    "                    geom_smooth(method = \"lm\", colour = \"red\", formula = y ~ x, se = FALSE) + #Line of best fit, helps in seeing relationship\n",
    "                    geom_point(color = \"blue\", alpha = 0.4) +\n",
    "                     labs(x = \"Age\", y = \"Seasons Played\", title = \"Age vs Seasons\") + \n",
    "                     theme(text = element_text(size = 17)) #legend could be added\n",
    "\n",
    "\n",
    "SeasonsVsRank"
   ]
  },
  {
   "cell_type": "code",
   "execution_count": 5,
   "id": "98a9fc3d-6f93-4261-90d5-8c1a602bf8bc",
   "metadata": {},
   "outputs": [
    {
     "data": {
      "image/png": "[encoded data removed]",
      "text/plain": [
       "plot without title"
      ]
     },
     "metadata": {
      "image/png": {
       "height": 420,
       "width": 480
      }
     },
     "output_type": "display_data"
    }
   ],
   "source": [
    "AgeVsSeasons <- ggplot(player_data_tidy, aes(x = Age, y = Seasons)) + \n",
    "                    geom_smooth(method = \"lm\", colour = \"red\", formula = y ~ x, se = FALSE) + #Line of best fit, helps in seeing relationship\n",
    "                    geom_point(color = \"blue\", alpha = 0.4) +\n",
    "                     labs(x = \"Age\", y = \"Seasons Played\", title = \"Age vs Seasons\") + \n",
    "                     theme(text = element_text(size = 17)) #legend could be added\n",
    "\n",
    "AgeVsSeasons"
   ]
  },
  {
   "cell_type": "code",
   "execution_count": 6,
   "id": "3b0a9ddf-ef25-4e1a-ad6f-6e815e92d3ca",
   "metadata": {},
   "outputs": [
    {
     "data": {
      "text/html": [
       "<table class=\"dataframe\">\n",
       "<caption>A tibble: 6 × 8</caption>\n",
       "<thead>\n",
       "\t<tr><th scope=col>Name</th><th scope=col>Age</th><th scope=col>Prize.Money</th><th scope=col>Seasons</th><th scope=col>Current.Rank</th><th scope=col>Best.Rank</th><th scope=col>Rank.Range</th><th scope=col>Best.Rank.Range</th></tr>\n",
       "\t<tr><th scope=col>&lt;chr&gt;</th><th scope=col>&lt;dbl&gt;</th><th scope=col>&lt;dbl&gt;</th><th scope=col>&lt;dbl&gt;</th><th scope=col>&lt;dbl&gt;</th><th scope=col>&lt;dbl&gt;</th><th scope=col>&lt;fct&gt;</th><th scope=col>&lt;fct&gt;</th></tr>\n",
       "</thead>\n",
       "<tbody>\n",
       "\t<tr><td>Lukas Lacko          </td><td>32</td><td> 3261567</td><td>14</td><td>144</td><td> 60</td><td>141-160</td><td>41-60  </td></tr>\n",
       "\t<tr><td>Bernard Tomic        </td><td>27</td><td> 6091971</td><td>11</td><td>100</td><td> 21</td><td>81-100 </td><td>21-40  </td></tr>\n",
       "\t<tr><td>Hubert Hurkacz       </td><td>22</td><td> 1517157</td><td> 5</td><td> 33</td><td> 33</td><td>21-40  </td><td>21-40  </td></tr>\n",
       "\t<tr><td>Sanjar Fayziev       </td><td>25</td><td>  122734</td><td> 5</td><td>189</td><td>187</td><td>181-200</td><td>181-200</td></tr>\n",
       "\t<tr><td>Felix Auger Aliassime</td><td>19</td><td> 1893476</td><td> 3</td><td> 51</td><td> 30</td><td>41-60  </td><td>21-40  </td></tr>\n",
       "\t<tr><td>Daniil Medvedev      </td><td>23</td><td>10507693</td><td> 5</td><td>  5</td><td>  4</td><td>1-20   </td><td>1-20   </td></tr>\n",
       "</tbody>\n",
       "</table>\n"
      ],
      "text/latex": [
       "A tibble: 6 × 8\n",
       "\\begin{tabular}{llllllll}\n",
       " Name & Age & Prize.Money & Seasons & Current.Rank & Best.Rank & Rank.Range & Best.Rank.Range\\\\\n",
       " <chr> & <dbl> & <dbl> & <dbl> & <dbl> & <dbl> & <fct> & <fct>\\\\\n",
       "\\hline\n",
       "\t Lukas Lacko           & 32 &  3261567 & 14 & 144 &  60 & 141-160 & 41-60  \\\\\n",
       "\t Bernard Tomic         & 27 &  6091971 & 11 & 100 &  21 & 81-100  & 21-40  \\\\\n",
       "\t Hubert Hurkacz        & 22 &  1517157 &  5 &  33 &  33 & 21-40   & 21-40  \\\\\n",
       "\t Sanjar Fayziev        & 25 &   122734 &  5 & 189 & 187 & 181-200 & 181-200\\\\\n",
       "\t Felix Auger Aliassime & 19 &  1893476 &  3 &  51 &  30 & 41-60   & 21-40  \\\\\n",
       "\t Daniil Medvedev       & 23 & 10507693 &  5 &   5 &   4 & 1-20    & 1-20   \\\\\n",
       "\\end{tabular}\n"
      ],
      "text/markdown": [
       "\n",
       "A tibble: 6 × 8\n",
       "\n",
       "| Name &lt;chr&gt; | Age &lt;dbl&gt; | Prize.Money &lt;dbl&gt; | Seasons &lt;dbl&gt; | Current.Rank &lt;dbl&gt; | Best.Rank &lt;dbl&gt; | Rank.Range &lt;fct&gt; | Best.Rank.Range &lt;fct&gt; |\n",
       "|---|---|---|---|---|---|---|---|\n",
       "| Lukas Lacko           | 32 |  3261567 | 14 | 144 |  60 | 141-160 | 41-60   |\n",
       "| Bernard Tomic         | 27 |  6091971 | 11 | 100 |  21 | 81-100  | 21-40   |\n",
       "| Hubert Hurkacz        | 22 |  1517157 |  5 |  33 |  33 | 21-40   | 21-40   |\n",
       "| Sanjar Fayziev        | 25 |   122734 |  5 | 189 | 187 | 181-200 | 181-200 |\n",
       "| Felix Auger Aliassime | 19 |  1893476 |  3 |  51 |  30 | 41-60   | 21-40   |\n",
       "| Daniil Medvedev       | 23 | 10507693 |  5 |   5 |   4 | 1-20    | 1-20    |\n",
       "\n"
      ],
      "text/plain": [
       "  Name                  Age Prize.Money Seasons Current.Rank Best.Rank\n",
       "1 Lukas Lacko           32   3261567    14      144           60      \n",
       "2 Bernard Tomic         27   6091971    11      100           21      \n",
       "3 Hubert Hurkacz        22   1517157     5       33           33      \n",
       "4 Sanjar Fayziev        25    122734     5      189          187      \n",
       "5 Felix Auger Aliassime 19   1893476     3       51           30      \n",
       "6 Daniil Medvedev       23  10507693     5        5            4      \n",
       "  Rank.Range Best.Rank.Range\n",
       "1 141-160    41-60          \n",
       "2 81-100     21-40          \n",
       "3 21-40      21-40          \n",
       "4 181-200    181-200        \n",
       "5 41-60      21-40          \n",
       "6 1-20       1-20           "
      ]
     },
     "metadata": {},
     "output_type": "display_data"
    }
   ],
   "source": [
    "# cuts Current.Rank and Best.Rank into different intervals with step 20 and adds them to a vector.\n",
    "## \"labels\" arg names each interval.\n",
    "Current_Rank_factor <- player_data_tidy$Current.Rank |>\n",
    "                            cut(c(0, 20, 40, 60, 80, 100, 120, 140, 160, 180, 200), \n",
    "                                labels = c(\"1-20\", \"21-40\", \"41-60\", \"61-80\", \"81-100\",\n",
    "                                           \"101-120\", \"121-140\", \"141-160\", \"161-180\", \"181-200\")) \n",
    "\n",
    "Best_Rank_factor <- player_data_tidy$Best.Rank |>\n",
    "                            cut(c(0, 20, 40, 60, 80, 100, 120, 140, 160, 180, 200), \n",
    "                                labels = c(\"1-20\", \"21-40\", \"41-60\", \"61-80\", \"81-100\",\n",
    "                                           \"101-120\", \"121-140\", \"141-160\", \"161-180\", \"181-200\")) \n",
    "\n",
    "player_data_factor <- mutate(player_data_tidy, Rank.Range = Current_Rank_factor) |>\n",
    "                      mutate(Best.Rank.Range = Best_Rank_factor) #vectors are added to df\n",
    "\n",
    "head(player_data_factor)"
   ]
  },
  {
   "cell_type": "code",
   "execution_count": 7,
   "id": "2a0a19a2-382b-480f-91fb-08cac8393c3d",
   "metadata": {},
   "outputs": [
    {
     "name": "stderr",
     "output_type": "stream",
     "text": [
      "\u001b[33m!\u001b[39m \u001b[33mFold1: internal: No observations were detected in `truth` for level(s): '141-16...\u001b[39m\n",
      "\n",
      "\u001b[33m!\u001b[39m \u001b[33mFold2: internal: No observations were detected in `truth` for level(s): '61-80'...\u001b[39m\n",
      "\n",
      "\u001b[33m!\u001b[39m \u001b[33mFold3: internal: No observations were detected in `truth` for level(s): '101-12...\u001b[39m\n",
      "\n",
      "\u001b[33m!\u001b[39m \u001b[33mFold4: internal: No observations were detected in `truth` for level(s): '181-20...\u001b[39m\n",
      "\n",
      "\u001b[33m!\u001b[39m \u001b[33mFold5: internal: No observations were detected in `truth` for level(s): '81-100...\u001b[39m\n",
      "\n"
     ]
    }
   ],
   "source": [
    "set.seed(4747)\n",
    "\n",
    "player_split <- initial_split(player_data_factor, prop = .80, strata = Best.Rank.Range)\n",
    "player_training <- training(player_split)\n",
    "player_testing <- testing(player_split)\n",
    "\n",
    "player_vfold <- vfold_cv(player_training, v = 5, strata = Best.Rank.Range)\n",
    "\n",
    "player_recipe <- recipe(Best.Rank.Range ~ Seasons + Prize.Money + Current.Rank, data = player_training) |>\n",
    "                        step_scale(all_predictors()) |>\n",
    "                        step_center(all_predictors())\n",
    "    \n",
    "knn_spec <- nearest_neighbor(weight_func = \"rectangular\", neighbors = tune()) |>\n",
    "                set_engine(\"kknn\") |>\n",
    "                set_mode(\"classification\")\n",
    "\n",
    "k_vals <- tibble(neighbors = seq(from = 1, to = 100, by = 1))\n",
    "\n",
    "player_resamples_metrics <- workflow() |>\n",
    "                            add_model(knn_spec) |>\n",
    "                            add_recipe(player_recipe) |>\n",
    "                            tune_grid(resamples = player_vfold, grid = k_vals) |>\n",
    "                            collect_metrics()\n",
    "\n",
    "resamples_metrics_clean <- player_resamples_metrics |>\n",
    "                                filter(.metric == \"accuracy\") |>\n",
    "                                arrange(desc(mean)) |>\n",
    "                                slice(1)"
   ]
  },
  {
   "cell_type": "code",
   "execution_count": 8,
   "id": "54f0d0f9-8121-4912-a8dd-fcf52d912f55",
   "metadata": {},
   "outputs": [
    {
     "data": {
      "image/png": "[encoded data removed]",
      "text/plain": [
       "plot without title"
      ]
     },
     "metadata": {
      "image/png": {
       "height": 420,
       "width": 480
      }
     },
     "output_type": "display_data"
    }
   ],
   "source": [
    "metrics_plot <- player_resamples_metrics |>\n",
    "                filter(.metric == \"accuracy\") |>\n",
    "                    ggplot(aes(x = neighbors, y = mean)) +\n",
    "                        geom_point(color = \"blue\") +\n",
    "                        geom_line(color = \"blue\") +\n",
    "                    labs(x = \"K value\", y = \"Mean accuracy\", title = \"K value accuracies\") + \n",
    "                        theme(text = element_text(size = 17))\n",
    "\n",
    "metrics_plot"
   ]
  },
  {
   "cell_type": "code",
   "execution_count": 9,
   "id": "20703222-3e7b-4264-a240-af293d233fdc",
   "metadata": {},
   "outputs": [
    {
     "data": {
      "text/html": [
       "'K with higest mean accuracy: 16'"
      ],
      "text/latex": [
       "'K with higest mean accuracy: 16'"
      ],
      "text/markdown": [
       "'K with higest mean accuracy: 16'"
      ],
      "text/plain": [
       "[1] \"K with higest mean accuracy: 16\""
      ]
     },
     "metadata": {},
     "output_type": "display_data"
    }
   ],
   "source": [
    "best_k <- resamples_metrics_clean |>\n",
    "            select(neighbors) |>\n",
    "            pull()\n",
    "\n",
    "paste(\"K with higest mean accuracy:\", best_k, sep = \" \")"
   ]
  },
  {
   "cell_type": "code",
   "execution_count": 12,
   "id": "0b8ab9a0-3f55-479a-8092-1e0372fa65d4",
   "metadata": {},
   "outputs": [
    {
     "data": {
      "text/html": [
       "<table class=\"dataframe\">\n",
       "<caption>A tibble: 6 × 9</caption>\n",
       "<thead>\n",
       "\t<tr><th scope=col>.pred_class</th><th scope=col>Name</th><th scope=col>Age</th><th scope=col>Prize.Money</th><th scope=col>Seasons</th><th scope=col>Current.Rank</th><th scope=col>Best.Rank</th><th scope=col>Rank.Range</th><th scope=col>Best.Rank.Range</th></tr>\n",
       "\t<tr><th scope=col>&lt;fct&gt;</th><th scope=col>&lt;chr&gt;</th><th scope=col>&lt;dbl&gt;</th><th scope=col>&lt;dbl&gt;</th><th scope=col>&lt;dbl&gt;</th><th scope=col>&lt;dbl&gt;</th><th scope=col>&lt;dbl&gt;</th><th scope=col>&lt;fct&gt;</th><th scope=col>&lt;fct&gt;</th></tr>\n",
       "</thead>\n",
       "<tbody>\n",
       "\t<tr><td>161-180</td><td>Sanjar Fayziev         </td><td>25</td><td>  122734</td><td> 5</td><td>189</td><td>187</td><td>181-200</td><td>181-200</td></tr>\n",
       "\t<tr><td>21-40  </td><td>Sam Querrey            </td><td>32</td><td>11912152</td><td>15</td><td> 31</td><td> 18</td><td>21-40  </td><td>1-20   </td></tr>\n",
       "\t<tr><td>21-40  </td><td>Fabio Fognini          </td><td>32</td><td>13470614</td><td>16</td><td> 29</td><td> 14</td><td>21-40  </td><td>1-20   </td></tr>\n",
       "\t<tr><td>21-40  </td><td>Dusan Lajovic          </td><td>29</td><td> 4850190</td><td>11</td><td> 65</td><td> 35</td><td>61-80  </td><td>21-40  </td></tr>\n",
       "\t<tr><td>121-140</td><td>Dennis Novak           </td><td>26</td><td>  709278</td><td> 7</td><td>133</td><td>115</td><td>121-140</td><td>101-120</td></tr>\n",
       "\t<tr><td>41-60  </td><td>Roberto Carballes Baena</td><td>26</td><td> 1701922</td><td> 7</td><td> 90</td><td> 90</td><td>81-100 </td><td>81-100 </td></tr>\n",
       "</tbody>\n",
       "</table>\n"
      ],
      "text/latex": [
       "A tibble: 6 × 9\n",
       "\\begin{tabular}{lllllllll}\n",
       " .pred\\_class & Name & Age & Prize.Money & Seasons & Current.Rank & Best.Rank & Rank.Range & Best.Rank.Range\\\\\n",
       " <fct> & <chr> & <dbl> & <dbl> & <dbl> & <dbl> & <dbl> & <fct> & <fct>\\\\\n",
       "\\hline\n",
       "\t 161-180 & Sanjar Fayziev          & 25 &   122734 &  5 & 189 & 187 & 181-200 & 181-200\\\\\n",
       "\t 21-40   & Sam Querrey             & 32 & 11912152 & 15 &  31 &  18 & 21-40   & 1-20   \\\\\n",
       "\t 21-40   & Fabio Fognini           & 32 & 13470614 & 16 &  29 &  14 & 21-40   & 1-20   \\\\\n",
       "\t 21-40   & Dusan Lajovic           & 29 &  4850190 & 11 &  65 &  35 & 61-80   & 21-40  \\\\\n",
       "\t 121-140 & Dennis Novak            & 26 &   709278 &  7 & 133 & 115 & 121-140 & 101-120\\\\\n",
       "\t 41-60   & Roberto Carballes Baena & 26 &  1701922 &  7 &  90 &  90 & 81-100  & 81-100 \\\\\n",
       "\\end{tabular}\n"
      ],
      "text/markdown": [
       "\n",
       "A tibble: 6 × 9\n",
       "\n",
       "| .pred_class &lt;fct&gt; | Name &lt;chr&gt; | Age &lt;dbl&gt; | Prize.Money &lt;dbl&gt; | Seasons &lt;dbl&gt; | Current.Rank &lt;dbl&gt; | Best.Rank &lt;dbl&gt; | Rank.Range &lt;fct&gt; | Best.Rank.Range &lt;fct&gt; |\n",
       "|---|---|---|---|---|---|---|---|---|\n",
       "| 161-180 | Sanjar Fayziev          | 25 |   122734 |  5 | 189 | 187 | 181-200 | 181-200 |\n",
       "| 21-40   | Sam Querrey             | 32 | 11912152 | 15 |  31 |  18 | 21-40   | 1-20    |\n",
       "| 21-40   | Fabio Fognini           | 32 | 13470614 | 16 |  29 |  14 | 21-40   | 1-20    |\n",
       "| 21-40   | Dusan Lajovic           | 29 |  4850190 | 11 |  65 |  35 | 61-80   | 21-40   |\n",
       "| 121-140 | Dennis Novak            | 26 |   709278 |  7 | 133 | 115 | 121-140 | 101-120 |\n",
       "| 41-60   | Roberto Carballes Baena | 26 |  1701922 |  7 |  90 |  90 | 81-100  | 81-100  |\n",
       "\n"
      ],
      "text/plain": [
       "  .pred_class Name                    Age Prize.Money Seasons Current.Rank\n",
       "1 161-180     Sanjar Fayziev          25    122734     5      189         \n",
       "2 21-40       Sam Querrey             32  11912152    15       31         \n",
       "3 21-40       Fabio Fognini           32  13470614    16       29         \n",
       "4 21-40       Dusan Lajovic           29   4850190    11       65         \n",
       "5 121-140     Dennis Novak            26    709278     7      133         \n",
       "6 41-60       Roberto Carballes Baena 26   1701922     7       90         \n",
       "  Best.Rank Rank.Range Best.Rank.Range\n",
       "1 187       181-200    181-200        \n",
       "2  18       21-40      1-20           \n",
       "3  14       21-40      1-20           \n",
       "4  35       61-80      21-40          \n",
       "5 115       121-140    101-120        \n",
       "6  90       81-100     81-100         "
      ]
     },
     "metadata": {},
     "output_type": "display_data"
    },
    {
     "data": {
      "text/html": [
       "<table class=\"dataframe\">\n",
       "<caption>A tibble: 2 × 3</caption>\n",
       "<thead>\n",
       "\t<tr><th scope=col>.metric</th><th scope=col>.estimator</th><th scope=col>.estimate</th></tr>\n",
       "\t<tr><th scope=col>&lt;chr&gt;</th><th scope=col>&lt;chr&gt;</th><th scope=col>&lt;dbl&gt;</th></tr>\n",
       "</thead>\n",
       "<tbody>\n",
       "\t<tr><td>accuracy</td><td>multiclass</td><td>0.4736842</td></tr>\n",
       "\t<tr><td>kap     </td><td>multiclass</td><td>0.3613445</td></tr>\n",
       "</tbody>\n",
       "</table>\n"
      ],
      "text/latex": [
       "A tibble: 2 × 3\n",
       "\\begin{tabular}{lll}\n",
       " .metric & .estimator & .estimate\\\\\n",
       " <chr> & <chr> & <dbl>\\\\\n",
       "\\hline\n",
       "\t accuracy & multiclass & 0.4736842\\\\\n",
       "\t kap      & multiclass & 0.3613445\\\\\n",
       "\\end{tabular}\n"
      ],
      "text/markdown": [
       "\n",
       "A tibble: 2 × 3\n",
       "\n",
       "| .metric &lt;chr&gt; | .estimator &lt;chr&gt; | .estimate &lt;dbl&gt; |\n",
       "|---|---|---|\n",
       "| accuracy | multiclass | 0.4736842 |\n",
       "| kap      | multiclass | 0.3613445 |\n",
       "\n"
      ],
      "text/plain": [
       "  .metric  .estimator .estimate\n",
       "1 accuracy multiclass 0.4736842\n",
       "2 kap      multiclass 0.3613445"
      ]
     },
     "metadata": {},
     "output_type": "display_data"
    }
   ],
   "source": [
    "player_spec <- nearest_neighbor(weight_func = \"rectangular\", neighbors = best_k) |>\n",
    "                set_engine(\"kknn\") |>\n",
    "                set_mode(\"classification\")\n",
    "\n",
    "player_predict <- workflow() |>\n",
    "                add_model(player_spec) |>\n",
    "                add_recipe(player_recipe) |>\n",
    "                fit(player_training) |>\n",
    "                    predict(player_testing) |>\n",
    "                    bind_cols(player_testing)\n",
    "head(player_predict)\n",
    "\n",
    "knn_metrics <- metrics(player_predict, truth = Best.Rank.Range, estimate = .pred_class)\n",
    "knn_metrics"
   ]
  },
  {
   "cell_type": "code",
   "execution_count": null,
   "id": "20870a70-857b-429f-a805-08b4e54487d0",
   "metadata": {},
   "outputs": [],
   "source": []
  }
 ],
 "metadata": {
  "kernelspec": {
   "display_name": "R",
   "language": "R",
   "name": "ir"
  },
  "language_info": {
   "codemirror_mode": "r",
   "file_extension": ".r",
   "mimetype": "text/x-r-source",
   "name": "R",
   "pygments_lexer": "r",
   "version": "4.1.1"
  }
 },
 "nbformat": 4,
 "nbformat_minor": 5
}
