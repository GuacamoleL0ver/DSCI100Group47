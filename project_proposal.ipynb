{
 "cells": [
  {
   "cell_type": "code",
   "execution_count": 2,
   "id": "9ee594cc-f8e2-4a2e-aed7-9c67ea7b9307",
   "metadata": {},
   "outputs": [],
   "source": [
    "suppressMessages(library(tidyverse)) #loading libraries, suppresses warning messages.\n",
    "suppressMessages(library(tidymodels)) \n",
    "suppressMessages(library(repr))\n",
    "\n",
    "set.seed(4747) #setting seed for reproducibility's sake. 47 is hexadecimal for g, and our group number \"g47\""
   ]
  },
  {
   "cell_type": "markdown",
   "id": "2c9a77f7-5ddf-47ce-91d3-3fbdb7ba97c2",
   "metadata": {},
   "source": [
    "## Project Proposal"
   ]
  },
  {
   "cell_type": "code",
   "execution_count": 2,
   "id": "f6c6adaa-9018-421e-b3c8-ed1a30be5447",
   "metadata": {},
   "outputs": [],
   "source": [
    "url <- \"https://drive.google.com/uc?export=download&id=1_MECmUXZuuILYeEOfonSGqodW6qVdhsS\"\n",
    "dir.create(\"data\")\n",
    "download.file(url, \"data/top500players.csv\") #creates directory \"data\" and downloads the data used into the folder\n",
    "\n",
    "### RUN THIS BLOCK ONLY ONCE "
   ]
  },
  {
   "cell_type": "code",
   "execution_count": 3,
   "id": "cc4eebf2-080e-42a5-8bb5-5a592fc99a93",
   "metadata": {},
   "outputs": [
    {
     "name": "stderr",
     "output_type": "stream",
     "text": [
      "New names:\n",
      "* `` -> ...1\n",
      "\n"
     ]
    },
    {
     "data": {
      "text/html": [
       "<table class=\"dataframe\">\n",
       "<caption>A tibble: 6 × 38</caption>\n",
       "<thead>\n",
       "\t<tr><th scope=col>...1</th><th scope=col>Age</th><th scope=col>Country</th><th scope=col>Plays</th><th scope=col>Wikipedia</th><th scope=col>Current Rank</th><th scope=col>Best Rank</th><th scope=col>Name</th><th scope=col>Backhand</th><th scope=col>Prize Money</th><th scope=col>⋯</th><th scope=col>Facebook</th><th scope=col>Twitter</th><th scope=col>Nicknames</th><th scope=col>Grand Slams</th><th scope=col>Davis Cups</th><th scope=col>Web Site</th><th scope=col>Team Cups</th><th scope=col>Olympics</th><th scope=col>Weeks at No. 1</th><th scope=col>Tour Finals</th></tr>\n",
       "\t<tr><th scope=col>&lt;dbl&gt;</th><th scope=col>&lt;chr&gt;</th><th scope=col>&lt;chr&gt;</th><th scope=col>&lt;chr&gt;</th><th scope=col>&lt;chr&gt;</th><th scope=col>&lt;chr&gt;</th><th scope=col>&lt;chr&gt;</th><th scope=col>&lt;chr&gt;</th><th scope=col>&lt;chr&gt;</th><th scope=col>&lt;chr&gt;</th><th scope=col>⋯</th><th scope=col>&lt;chr&gt;</th><th scope=col>&lt;chr&gt;</th><th scope=col>&lt;chr&gt;</th><th scope=col>&lt;dbl&gt;</th><th scope=col>&lt;dbl&gt;</th><th scope=col>&lt;chr&gt;</th><th scope=col>&lt;dbl&gt;</th><th scope=col>&lt;dbl&gt;</th><th scope=col>&lt;dbl&gt;</th><th scope=col>&lt;dbl&gt;</th></tr>\n",
       "</thead>\n",
       "<tbody>\n",
       "\t<tr><td>0</td><td>26 (25-04-1993)</td><td>Brazil            </td><td>Right-handed</td><td>Wikipedia</td><td>378 (97) </td><td>363 (04-11-2019)</td><td>Oscar Jose Gutierrez</td><td>NA        </td><td>NA          </td><td>⋯</td><td>NA</td><td>NA</td><td>NA</td><td>NA</td><td>NA</td><td>NA</td><td>NA</td><td>NA</td><td>NA</td><td>NA</td></tr>\n",
       "\t<tr><td>1</td><td>18 (22-12-2001)</td><td>United Kingdom    </td><td>Left-handed </td><td>Wikipedia</td><td>326 (119)</td><td>316 (14-10-2019)</td><td>Jack Draper         </td><td>Two-handed</td><td>$59,040     </td><td>⋯</td><td>NA</td><td>NA</td><td>NA</td><td>NA</td><td>NA</td><td>NA</td><td>NA</td><td>NA</td><td>NA</td><td>NA</td></tr>\n",
       "\t<tr><td>2</td><td>32 (03-11-1987)</td><td>Slovakia          </td><td>Right-handed</td><td>Wikipedia</td><td>178 (280)</td><td>44 (14-01-2013) </td><td>Lukas Lacko         </td><td>Two-handed</td><td>US$3,261,567</td><td>⋯</td><td>NA</td><td>NA</td><td>NA</td><td>NA</td><td>NA</td><td>NA</td><td>NA</td><td>NA</td><td>NA</td><td>NA</td></tr>\n",
       "\t<tr><td>3</td><td>21 (29-05-1998)</td><td>Korea, Republic of</td><td>Right-handed</td><td>Wikipedia</td><td>236 (199)</td><td>130 (10-04-2017)</td><td>Duck Hee Lee        </td><td>Two-handed</td><td>$374,093    </td><td>⋯</td><td>NA</td><td>NA</td><td>NA</td><td>NA</td><td>NA</td><td>NA</td><td>NA</td><td>NA</td><td>NA</td><td>NA</td></tr>\n",
       "\t<tr><td>4</td><td>27 (21-10-1992)</td><td>Australia         </td><td>Right-handed</td><td>Wikipedia</td><td>183 (273)</td><td>17 (11-01-2016) </td><td>Bernard Tomic       </td><td>Two-handed</td><td>US$6,091,971</td><td>⋯</td><td>NA</td><td>NA</td><td>NA</td><td>NA</td><td>NA</td><td>NA</td><td>NA</td><td>NA</td><td>NA</td><td>NA</td></tr>\n",
       "\t<tr><td>5</td><td>22 (11-02-1997)</td><td>Poland            </td><td>Right-handed</td><td>Wikipedia</td><td>31 (1398)</td><td>31 (20-01-2020) </td><td>Hubert Hurkacz      </td><td>Two-handed</td><td>$1,517,157  </td><td>⋯</td><td>NA</td><td>NA</td><td>NA</td><td>NA</td><td>NA</td><td>NA</td><td>NA</td><td>NA</td><td>NA</td><td>NA</td></tr>\n",
       "</tbody>\n",
       "</table>\n"
      ],
      "text/latex": [
       "A tibble: 6 × 38\n",
       "\\begin{tabular}{lllllllllllllllllllll}\n",
       " ...1 & Age & Country & Plays & Wikipedia & Current Rank & Best Rank & Name & Backhand & Prize Money & ⋯ & Facebook & Twitter & Nicknames & Grand Slams & Davis Cups & Web Site & Team Cups & Olympics & Weeks at No. 1 & Tour Finals\\\\\n",
       " <dbl> & <chr> & <chr> & <chr> & <chr> & <chr> & <chr> & <chr> & <chr> & <chr> & ⋯ & <chr> & <chr> & <chr> & <dbl> & <dbl> & <chr> & <dbl> & <dbl> & <dbl> & <dbl>\\\\\n",
       "\\hline\n",
       "\t 0 & 26 (25-04-1993) & Brazil             & Right-handed & Wikipedia & 378 (97)  & 363 (04-11-2019) & Oscar Jose Gutierrez & NA         & NA           & ⋯ & NA & NA & NA & NA & NA & NA & NA & NA & NA & NA\\\\\n",
       "\t 1 & 18 (22-12-2001) & United Kingdom     & Left-handed  & Wikipedia & 326 (119) & 316 (14-10-2019) & Jack Draper          & Two-handed & \\$59,040      & ⋯ & NA & NA & NA & NA & NA & NA & NA & NA & NA & NA\\\\\n",
       "\t 2 & 32 (03-11-1987) & Slovakia           & Right-handed & Wikipedia & 178 (280) & 44 (14-01-2013)  & Lukas Lacko          & Two-handed & US\\$3,261,567 & ⋯ & NA & NA & NA & NA & NA & NA & NA & NA & NA & NA\\\\\n",
       "\t 3 & 21 (29-05-1998) & Korea, Republic of & Right-handed & Wikipedia & 236 (199) & 130 (10-04-2017) & Duck Hee Lee         & Two-handed & \\$374,093     & ⋯ & NA & NA & NA & NA & NA & NA & NA & NA & NA & NA\\\\\n",
       "\t 4 & 27 (21-10-1992) & Australia          & Right-handed & Wikipedia & 183 (273) & 17 (11-01-2016)  & Bernard Tomic        & Two-handed & US\\$6,091,971 & ⋯ & NA & NA & NA & NA & NA & NA & NA & NA & NA & NA\\\\\n",
       "\t 5 & 22 (11-02-1997) & Poland             & Right-handed & Wikipedia & 31 (1398) & 31 (20-01-2020)  & Hubert Hurkacz       & Two-handed & \\$1,517,157   & ⋯ & NA & NA & NA & NA & NA & NA & NA & NA & NA & NA\\\\\n",
       "\\end{tabular}\n"
      ],
      "text/markdown": [
       "\n",
       "A tibble: 6 × 38\n",
       "\n",
       "| ...1 &lt;dbl&gt; | Age &lt;chr&gt; | Country &lt;chr&gt; | Plays &lt;chr&gt; | Wikipedia &lt;chr&gt; | Current Rank &lt;chr&gt; | Best Rank &lt;chr&gt; | Name &lt;chr&gt; | Backhand &lt;chr&gt; | Prize Money &lt;chr&gt; | ⋯ ⋯ | Facebook &lt;chr&gt; | Twitter &lt;chr&gt; | Nicknames &lt;chr&gt; | Grand Slams &lt;dbl&gt; | Davis Cups &lt;dbl&gt; | Web Site &lt;chr&gt; | Team Cups &lt;dbl&gt; | Olympics &lt;dbl&gt; | Weeks at No. 1 &lt;dbl&gt; | Tour Finals &lt;dbl&gt; |\n",
       "|---|---|---|---|---|---|---|---|---|---|---|---|---|---|---|---|---|---|---|---|---|\n",
       "| 0 | 26 (25-04-1993) | Brazil             | Right-handed | Wikipedia | 378 (97)  | 363 (04-11-2019) | Oscar Jose Gutierrez | NA         | NA           | ⋯ | NA | NA | NA | NA | NA | NA | NA | NA | NA | NA |\n",
       "| 1 | 18 (22-12-2001) | United Kingdom     | Left-handed  | Wikipedia | 326 (119) | 316 (14-10-2019) | Jack Draper          | Two-handed | $59,040      | ⋯ | NA | NA | NA | NA | NA | NA | NA | NA | NA | NA |\n",
       "| 2 | 32 (03-11-1987) | Slovakia           | Right-handed | Wikipedia | 178 (280) | 44 (14-01-2013)  | Lukas Lacko          | Two-handed | US$3,261,567 | ⋯ | NA | NA | NA | NA | NA | NA | NA | NA | NA | NA |\n",
       "| 3 | 21 (29-05-1998) | Korea, Republic of | Right-handed | Wikipedia | 236 (199) | 130 (10-04-2017) | Duck Hee Lee         | Two-handed | $374,093     | ⋯ | NA | NA | NA | NA | NA | NA | NA | NA | NA | NA |\n",
       "| 4 | 27 (21-10-1992) | Australia          | Right-handed | Wikipedia | 183 (273) | 17 (11-01-2016)  | Bernard Tomic        | Two-handed | US$6,091,971 | ⋯ | NA | NA | NA | NA | NA | NA | NA | NA | NA | NA |\n",
       "| 5 | 22 (11-02-1997) | Poland             | Right-handed | Wikipedia | 31 (1398) | 31 (20-01-2020)  | Hubert Hurkacz       | Two-handed | $1,517,157   | ⋯ | NA | NA | NA | NA | NA | NA | NA | NA | NA | NA |\n",
       "\n"
      ],
      "text/plain": [
       "  ...1 Age             Country            Plays        Wikipedia Current Rank\n",
       "1 0    26 (25-04-1993) Brazil             Right-handed Wikipedia 378 (97)    \n",
       "2 1    18 (22-12-2001) United Kingdom     Left-handed  Wikipedia 326 (119)   \n",
       "3 2    32 (03-11-1987) Slovakia           Right-handed Wikipedia 178 (280)   \n",
       "4 3    21 (29-05-1998) Korea, Republic of Right-handed Wikipedia 236 (199)   \n",
       "5 4    27 (21-10-1992) Australia          Right-handed Wikipedia 183 (273)   \n",
       "6 5    22 (11-02-1997) Poland             Right-handed Wikipedia 31 (1398)   \n",
       "  Best Rank        Name                 Backhand   Prize Money  <U+22EF>       \n",
       "1 363 (04-11-2019) Oscar Jose Gutierrez NA         NA           <U+22EF>\n",
       "2 316 (14-10-2019) Jack Draper          Two-handed $59,040      <U+22EF>\n",
       "3 44 (14-01-2013)  Lukas Lacko          Two-handed US$3,261,567 <U+22EF>\n",
       "4 130 (10-04-2017) Duck Hee Lee         Two-handed $374,093     <U+22EF>\n",
       "5 17 (11-01-2016)  Bernard Tomic        Two-handed US$6,091,971 <U+22EF>\n",
       "6 31 (20-01-2020)  Hubert Hurkacz       Two-handed $1,517,157   <U+22EF>\n",
       "  Facebook Twitter Nicknames Grand Slams Davis Cups Web Site Team Cups Olympics\n",
       "1 NA       NA      NA        NA          NA         NA       NA        NA      \n",
       "2 NA       NA      NA        NA          NA         NA       NA        NA      \n",
       "3 NA       NA      NA        NA          NA         NA       NA        NA      \n",
       "4 NA       NA      NA        NA          NA         NA       NA        NA      \n",
       "5 NA       NA      NA        NA          NA         NA       NA        NA      \n",
       "6 NA       NA      NA        NA          NA         NA       NA        NA      \n",
       "  Weeks at No. 1 Tour Finals\n",
       "1 NA             NA         \n",
       "2 NA             NA         \n",
       "3 NA             NA         \n",
       "4 NA             NA         \n",
       "5 NA             NA         \n",
       "6 NA             NA         "
      ]
     },
     "metadata": {},
     "output_type": "display_data"
    }
   ],
   "source": [
    "player_data <- read_csv(\"data/top500players.csv\", show_col_types = FALSE)\n",
    "head(player_data)"
   ]
  },
  {
   "cell_type": "code",
   "execution_count": 4,
   "id": "6d352876-059a-4c4d-955c-c82692db01f0",
   "metadata": {},
   "outputs": [
    {
     "data": {
      "text/html": [
       "<table class=\"dataframe\">\n",
       "<caption>A tibble: 6 × 4</caption>\n",
       "<thead>\n",
       "\t<tr><th scope=col>Age</th><th scope=col>Name</th><th scope=col>Seasons</th><th scope=col>Current.Rank</th></tr>\n",
       "\t<tr><th scope=col>&lt;dbl&gt;</th><th scope=col>&lt;chr&gt;</th><th scope=col>&lt;dbl&gt;</th><th scope=col>&lt;dbl&gt;</th></tr>\n",
       "</thead>\n",
       "<tbody>\n",
       "\t<tr><td>32</td><td>Lukas Lacko          </td><td>14</td><td>144</td></tr>\n",
       "\t<tr><td>27</td><td>Bernard Tomic        </td><td>11</td><td>100</td></tr>\n",
       "\t<tr><td>22</td><td>Hubert Hurkacz       </td><td> 5</td><td> 33</td></tr>\n",
       "\t<tr><td>25</td><td>Sanjar Fayziev       </td><td> 5</td><td>189</td></tr>\n",
       "\t<tr><td>19</td><td>Felix Auger Aliassime</td><td> 3</td><td> 51</td></tr>\n",
       "\t<tr><td>23</td><td>Daniil Medvedev      </td><td> 5</td><td>  5</td></tr>\n",
       "</tbody>\n",
       "</table>\n"
      ],
      "text/latex": [
       "A tibble: 6 × 4\n",
       "\\begin{tabular}{llll}\n",
       " Age & Name & Seasons & Current.Rank\\\\\n",
       " <dbl> & <chr> & <dbl> & <dbl>\\\\\n",
       "\\hline\n",
       "\t 32 & Lukas Lacko           & 14 & 144\\\\\n",
       "\t 27 & Bernard Tomic         & 11 & 100\\\\\n",
       "\t 22 & Hubert Hurkacz        &  5 &  33\\\\\n",
       "\t 25 & Sanjar Fayziev        &  5 & 189\\\\\n",
       "\t 19 & Felix Auger Aliassime &  3 &  51\\\\\n",
       "\t 23 & Daniil Medvedev       &  5 &   5\\\\\n",
       "\\end{tabular}\n"
      ],
      "text/markdown": [
       "\n",
       "A tibble: 6 × 4\n",
       "\n",
       "| Age &lt;dbl&gt; | Name &lt;chr&gt; | Seasons &lt;dbl&gt; | Current.Rank &lt;dbl&gt; |\n",
       "|---|---|---|---|\n",
       "| 32 | Lukas Lacko           | 14 | 144 |\n",
       "| 27 | Bernard Tomic         | 11 | 100 |\n",
       "| 22 | Hubert Hurkacz        |  5 |  33 |\n",
       "| 25 | Sanjar Fayziev        |  5 | 189 |\n",
       "| 19 | Felix Auger Aliassime |  3 |  51 |\n",
       "| 23 | Daniil Medvedev       |  5 |   5 |\n",
       "\n"
      ],
      "text/plain": [
       "  Age Name                  Seasons Current.Rank\n",
       "1 32  Lukas Lacko           14      144         \n",
       "2 27  Bernard Tomic         11      100         \n",
       "3 22  Hubert Hurkacz         5       33         \n",
       "4 25  Sanjar Fayziev         5      189         \n",
       "5 19  Felix Auger Aliassime  3       51         \n",
       "6 23  Daniil Medvedev        5        5         "
      ]
     },
     "metadata": {},
     "output_type": "display_data"
    }
   ],
   "source": [
    "colnames(player_data) <- make.names(colnames(player_data))\n",
    "\n",
    "player_data_tidy <- player_data |>\n",
    "                        separate(Age, c(\"Age\", NA), sep = \" \") |> #Removes the DOB next to the Age\n",
    "                        separate(Current.Elo.Rank, c(\"Current.Rank\", NA), sep = \" \") |> #Removes the elo next to the ranks\n",
    "                        select(Age, Name, Seasons, Current.Rank) |>\n",
    "                        na.omit() |>\n",
    "                        mutate(Age = as.numeric(Age)) |>\n",
    "                        mutate(Current.Rank = as.numeric(Current.Rank))\n",
    "\n",
    "head(player_data_tidy)"
   ]
  },
  {
   "cell_type": "code",
   "execution_count": null,
   "id": "5419bf70-e869-4766-86c7-4500553c7f88",
   "metadata": {},
   "outputs": [],
   "source": []
  }
 ],
 "metadata": {
  "kernelspec": {
   "display_name": "R",
   "language": "R",
   "name": "ir"
  },
  "language_info": {
   "codemirror_mode": "r",
   "file_extension": ".r",
   "mimetype": "text/x-r-source",
   "name": "R",
   "pygments_lexer": "r",
   "version": "4.1.1"
  }
 },
 "nbformat": 4,
 "nbformat_minor": 5
}
