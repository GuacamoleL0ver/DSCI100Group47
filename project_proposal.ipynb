{
 "cells": [
  {
   "cell_type": "code",
   "execution_count": 28,
   "metadata": {},
   "outputs": [],
   "source": [
    "suppressMessages(library(tidyverse)) #loading libraries, suppresses warning messages.\n",
    "suppressMessages(library(tidymodels)) \n",
    "suppressMessages(library(repr))\n",
    "suppressMessages(library(GGally))\n",
    "\n",
    "set.seed(4747) #setting seed for reproducibility's sake. 47 is hexadecimal for g, and our group number \"g47\""
   ]
  },
  {
   "cell_type": "code",
   "execution_count": 7,
   "metadata": {},
   "outputs": [],
   "source": [
    "library(GGally)"
   ]
  },
  {
   "cell_type": "markdown",
   "metadata": {},
   "source": [
    "## Project Proposal"
   ]
  },
  {
   "cell_type": "markdown",
   "metadata": {},
   "source": [
    "**Introduction**\n",
    "\n",
    "Tennis is a sport using a racket and a rubber ball. It can be played with either one or two players on each team. The objective of the game is to pass the ball over the net in such a way so that the opponent is unable to return the ball. The player with the most points wins. Each player has a rank corresponding to the number of wins. In each yearly tennis season, players compete with each other to accumulate wins.\n",
    "\n",
    "In our data analysis, we aim to answer the following question: “What relationship does a player’s age and number of seasons played have on a player’s current ranking?” To answer this, we will arrange the “Current Rank” column to store a range of rank each player rank lies in (Rank 1-50, Rank 51-100, etc). This will be our category for classification.\n",
    "\n",
    "We will be using the “Player Stats for Top 500 Players” dataset which includes statistical  information about the top 500 tennis players in the world. Specifically, we will focus on the following variables: “Age, Current Rank, and Seasons”"
   ]
  },
  {
   "cell_type": "code",
   "execution_count": null,
   "metadata": {},
   "outputs": [],
   "source": [
    "url <- \"https://drive.google.com/uc?export=download&id=1_MECmUXZuuILYeEOfonSGqodW6qVdhsS\"\n",
    "dir.create(\"data\")\n",
    "download.file(url, \"data/top500players.csv\") # creates directory \"data\" and downloads the data used into the folder\n",
    "\n",
    "### RUN THIS BLOCK ONLY ONCE "
   ]
  },
  {
   "cell_type": "code",
   "execution_count": 10,
   "metadata": {},
   "outputs": [
    {
     "name": "stderr",
     "output_type": "stream",
     "text": [
      "New names:\n",
      "* `` -> ...1\n",
      "\n"
     ]
    },
    {
     "name": "stdout",
     "output_type": "stream",
     "text": [
      "Rows: 500\n",
      "Columns: 38\n",
      "$ ...1               \u001b[3m\u001b[90m<dbl>\u001b[39m\u001b[23m 0, 1, 2, 3, 4, 5, 6, 7, 8, 9, 10, 11, 12, 13, 14, 1~\n",
      "$ Age                \u001b[3m\u001b[90m<chr>\u001b[39m\u001b[23m \"26 (25-04-1993)\", \"18 (22-12-2001)\", \"32 (03-11-19~\n",
      "$ Country            \u001b[3m\u001b[90m<chr>\u001b[39m\u001b[23m \"Brazil\", \"United Kingdom\", \"Slovakia\", \"Korea, Rep~\n",
      "$ Plays              \u001b[3m\u001b[90m<chr>\u001b[39m\u001b[23m \"Right-handed\", \"Left-handed\", \"Right-handed\", \"Rig~\n",
      "$ Wikipedia          \u001b[3m\u001b[90m<chr>\u001b[39m\u001b[23m \"Wikipedia\", \"Wikipedia\", \"Wikipedia\", \"Wikipedia\",~\n",
      "$ `Current Rank`     \u001b[3m\u001b[90m<chr>\u001b[39m\u001b[23m \"378 (97)\", \"326 (119)\", \"178 (280)\", \"236 (199)\", ~\n",
      "$ `Best Rank`        \u001b[3m\u001b[90m<chr>\u001b[39m\u001b[23m \"363 (04-11-2019)\", \"316 (14-10-2019)\", \"44 (14-01-~\n",
      "$ Name               \u001b[3m\u001b[90m<chr>\u001b[39m\u001b[23m \"Oscar Jose Gutierrez\", \"Jack Draper\", \"Lukas Lacko~\n",
      "$ Backhand           \u001b[3m\u001b[90m<chr>\u001b[39m\u001b[23m NA, \"Two-handed\", \"Two-handed\", \"Two-handed\", \"Two-~\n",
      "$ `Prize Money`      \u001b[3m\u001b[90m<chr>\u001b[39m\u001b[23m NA, \"$59,040\", \"US$3,261,567\", \"$374,093\", \"US$6,09~\n",
      "$ Height             \u001b[3m\u001b[90m<chr>\u001b[39m\u001b[23m NA, NA, \"185 cm\", NA, \"193 cm\", NA, NA, NA, NA, NA,~\n",
      "$ `Favorite Surface` \u001b[3m\u001b[90m<chr>\u001b[39m\u001b[23m NA, NA, \"Fast (H, G) 40%\", NA, \"Fast (H, G) 36%\", \"~\n",
      "$ `Turned Pro`       \u001b[3m\u001b[90m<dbl>\u001b[39m\u001b[23m NA, NA, 2005, NA, 2008, 2015, 2010, NA, NA, NA, 201~\n",
      "$ Seasons            \u001b[3m\u001b[90m<dbl>\u001b[39m\u001b[23m NA, NA, 14, 2, 11, 5, 1, 1, 5, 3, 3, 5, 8, NA, 5, 1~\n",
      "$ Active             \u001b[3m\u001b[90m<chr>\u001b[39m\u001b[23m NA, NA, \"Yes\", \"Yes\", \"Yes\", \"Yes\", NA, \"Yes\", \"Yes~\n",
      "$ `Current Elo Rank` \u001b[3m\u001b[90m<chr>\u001b[39m\u001b[23m NA, NA, \"144 (1764)\", NA, \"100 (1826)\", \"33 (1983)\"~\n",
      "$ `Best Elo Rank`    \u001b[3m\u001b[90m<chr>\u001b[39m\u001b[23m NA, NA, \"60 (06-02-2012)\", NA, \"21 (23-03-2015)\", \"~\n",
      "$ `Peak Elo Rating`  \u001b[3m\u001b[90m<chr>\u001b[39m\u001b[23m NA, NA, \"1886 (06-02-2012)\", NA, \"2037 (01-02-2016)~\n",
      "$ `Last Appearance`  \u001b[3m\u001b[90m<chr>\u001b[39m\u001b[23m NA, NA, \"18-03-2019\", \"19-08-2019\", \"14-10-2019\", \"~\n",
      "$ Titles             \u001b[3m\u001b[90m<dbl>\u001b[39m\u001b[23m NA, NA, NA, NA, 4, 1, NA, NA, NA, NA, NA, 7, NA, NA~\n",
      "$ `GOAT Rank`        \u001b[3m\u001b[90m<chr>\u001b[39m\u001b[23m NA, NA, NA, NA, \"264 (6)\", \"489 (1)\", NA, NA, NA, N~\n",
      "$ `Best Season`      \u001b[3m\u001b[90m<dbl>\u001b[39m\u001b[23m NA, NA, NA, NA, 2015, 2019, NA, NA, NA, NA, 2019, 2~\n",
      "$ Retired            \u001b[3m\u001b[90m<dbl>\u001b[39m\u001b[23m NA, NA, NA, NA, NA, NA, 2017, NA, NA, NA, NA, NA, N~\n",
      "$ Masters            \u001b[3m\u001b[90m<dbl>\u001b[39m\u001b[23m NA, NA, NA, NA, NA, NA, NA, NA, NA, NA, NA, 2, NA, ~\n",
      "$ Birthplace         \u001b[3m\u001b[90m<chr>\u001b[39m\u001b[23m NA, NA, NA, NA, NA, NA, NA, NA, NA, NA, NA, NA, NA,~\n",
      "$ Residence          \u001b[3m\u001b[90m<chr>\u001b[39m\u001b[23m NA, NA, NA, NA, NA, NA, NA, NA, NA, NA, NA, NA, NA,~\n",
      "$ Weight             \u001b[3m\u001b[90m<chr>\u001b[39m\u001b[23m NA, NA, NA, NA, NA, NA, NA, NA, NA, NA, NA, NA, NA,~\n",
      "$ Coach              \u001b[3m\u001b[90m<chr>\u001b[39m\u001b[23m NA, NA, NA, NA, NA, NA, NA, NA, NA, NA, NA, NA, NA,~\n",
      "$ Facebook           \u001b[3m\u001b[90m<chr>\u001b[39m\u001b[23m NA, NA, NA, NA, NA, NA, NA, NA, NA, NA, NA, NA, NA,~\n",
      "$ Twitter            \u001b[3m\u001b[90m<chr>\u001b[39m\u001b[23m NA, NA, NA, NA, NA, NA, NA, NA, NA, NA, NA, NA, NA,~\n",
      "$ Nicknames          \u001b[3m\u001b[90m<chr>\u001b[39m\u001b[23m NA, NA, NA, NA, NA, NA, NA, NA, NA, NA, NA, NA, NA,~\n",
      "$ `Grand Slams`      \u001b[3m\u001b[90m<dbl>\u001b[39m\u001b[23m NA, NA, NA, NA, NA, NA, NA, NA, NA, NA, NA, NA, NA,~\n",
      "$ `Davis Cups`       \u001b[3m\u001b[90m<dbl>\u001b[39m\u001b[23m NA, NA, NA, NA, NA, NA, NA, NA, NA, NA, NA, NA, NA,~\n",
      "$ `Web Site`         \u001b[3m\u001b[90m<chr>\u001b[39m\u001b[23m NA, NA, NA, NA, NA, NA, NA, NA, NA, NA, NA, NA, NA,~\n",
      "$ `Team Cups`        \u001b[3m\u001b[90m<dbl>\u001b[39m\u001b[23m NA, NA, NA, NA, NA, NA, NA, NA, NA, NA, NA, NA, NA,~\n",
      "$ Olympics           \u001b[3m\u001b[90m<dbl>\u001b[39m\u001b[23m NA, NA, NA, NA, NA, NA, NA, NA, NA, NA, NA, NA, NA,~\n",
      "$ `Weeks at No. 1`   \u001b[3m\u001b[90m<dbl>\u001b[39m\u001b[23m NA, NA, NA, NA, NA, NA, NA, NA, NA, NA, NA, NA, NA,~\n",
      "$ `Tour Finals`      \u001b[3m\u001b[90m<dbl>\u001b[39m\u001b[23m NA, NA, NA, NA, NA, NA, NA, NA, NA, NA, NA, NA, NA,~\n"
     ]
    }
   ],
   "source": [
    "player_data <- read_csv(\"data/top500players.csv\", show_col_types = FALSE)\n",
    "glimpse(player_data)"
   ]
  },
  {
   "cell_type": "code",
   "execution_count": 31,
   "metadata": {},
   "outputs": [
    {
     "data": {
      "text/html": [
       "<table class=\"dataframe\">\n",
       "<caption>A tibble: 6 × 6</caption>\n",
       "<thead>\n",
       "\t<tr><th scope=col>Name</th><th scope=col>Age</th><th scope=col>Prize.Money</th><th scope=col>Seasons</th><th scope=col>Current.Rank</th><th scope=col>Best.Rank</th></tr>\n",
       "\t<tr><th scope=col>&lt;chr&gt;</th><th scope=col>&lt;dbl&gt;</th><th scope=col>&lt;dbl&gt;</th><th scope=col>&lt;dbl&gt;</th><th scope=col>&lt;dbl&gt;</th><th scope=col>&lt;dbl&gt;</th></tr>\n",
       "</thead>\n",
       "<tbody>\n",
       "\t<tr><td>Lukas Lacko          </td><td>32</td><td> 3261567</td><td>14</td><td>144</td><td> 60</td></tr>\n",
       "\t<tr><td>Bernard Tomic        </td><td>27</td><td> 6091971</td><td>11</td><td>100</td><td> 21</td></tr>\n",
       "\t<tr><td>Hubert Hurkacz       </td><td>22</td><td> 1517157</td><td> 5</td><td> 33</td><td> 33</td></tr>\n",
       "\t<tr><td>Sanjar Fayziev       </td><td>25</td><td>  122734</td><td> 5</td><td>189</td><td>187</td></tr>\n",
       "\t<tr><td>Felix Auger Aliassime</td><td>19</td><td> 1893476</td><td> 3</td><td> 51</td><td> 30</td></tr>\n",
       "\t<tr><td>Daniil Medvedev      </td><td>23</td><td>10507693</td><td> 5</td><td>  5</td><td>  4</td></tr>\n",
       "</tbody>\n",
       "</table>\n"
      ],
      "text/latex": [
       "A tibble: 6 × 6\n",
       "\\begin{tabular}{llllll}\n",
       " Name & Age & Prize.Money & Seasons & Current.Rank & Best.Rank\\\\\n",
       " <chr> & <dbl> & <dbl> & <dbl> & <dbl> & <dbl>\\\\\n",
       "\\hline\n",
       "\t Lukas Lacko           & 32 &  3261567 & 14 & 144 &  60\\\\\n",
       "\t Bernard Tomic         & 27 &  6091971 & 11 & 100 &  21\\\\\n",
       "\t Hubert Hurkacz        & 22 &  1517157 &  5 &  33 &  33\\\\\n",
       "\t Sanjar Fayziev        & 25 &   122734 &  5 & 189 & 187\\\\\n",
       "\t Felix Auger Aliassime & 19 &  1893476 &  3 &  51 &  30\\\\\n",
       "\t Daniil Medvedev       & 23 & 10507693 &  5 &   5 &   4\\\\\n",
       "\\end{tabular}\n"
      ],
      "text/markdown": [
       "\n",
       "A tibble: 6 × 6\n",
       "\n",
       "| Name &lt;chr&gt; | Age &lt;dbl&gt; | Prize.Money &lt;dbl&gt; | Seasons &lt;dbl&gt; | Current.Rank &lt;dbl&gt; | Best.Rank &lt;dbl&gt; |\n",
       "|---|---|---|---|---|---|\n",
       "| Lukas Lacko           | 32 |  3261567 | 14 | 144 |  60 |\n",
       "| Bernard Tomic         | 27 |  6091971 | 11 | 100 |  21 |\n",
       "| Hubert Hurkacz        | 22 |  1517157 |  5 |  33 |  33 |\n",
       "| Sanjar Fayziev        | 25 |   122734 |  5 | 189 | 187 |\n",
       "| Felix Auger Aliassime | 19 |  1893476 |  3 |  51 |  30 |\n",
       "| Daniil Medvedev       | 23 | 10507693 |  5 |   5 |   4 |\n",
       "\n"
      ],
      "text/plain": [
       "  Name                  Age Prize.Money Seasons Current.Rank Best.Rank\n",
       "1 Lukas Lacko           32   3261567    14      144           60      \n",
       "2 Bernard Tomic         27   6091971    11      100           21      \n",
       "3 Hubert Hurkacz        22   1517157     5       33           33      \n",
       "4 Sanjar Fayziev        25    122734     5      189          187      \n",
       "5 Felix Auger Aliassime 19   1893476     3       51           30      \n",
       "6 Daniil Medvedev       23  10507693     5        5            4      "
      ]
     },
     "metadata": {},
     "output_type": "display_data"
    }
   ],
   "source": [
    "colnames(player_data) <- make.names(colnames(player_data))\n",
    "\n",
    "player_data_tidy <- player_data |>\n",
    "                        separate(Best.Elo.Rank, c(\"Best.Rank\", NA), sep = \" \") |> #Removes the date next to the all-time best ranks\n",
    "                        separate(Current.Elo.Rank, c(\"Current.Rank\", NA), sep = \" \") |> #Removes the elo next to the ranks\n",
    "                        separate(Age, c(\"Age\", NA), sep = \" \") |>\n",
    "                            select(Name, Age, Prize.Money, Seasons, Current.Rank, Best.Rank) |>\n",
    "                         mutate(Prize.Money = gsub(\"[a-zA-Z$, -]\", \"\", Prize.Money)) |> #removes all string chars next to numbers, US$ etc.\n",
    "                         mutate(Prize.Money = as.numeric(Prize.Money)) |>\n",
    "                         mutate(Best.Rank = as.numeric(Best.Rank)) |>\n",
    "                         mutate(Current.Rank = as.numeric(Current.Rank)) |>\n",
    "                         mutate(Age = as.numeric(Age)) |>\n",
    "                        na.omit()\n",
    "\n",
    "head(player_data_tidy)"
   ]
  },
  {
   "cell_type": "code",
   "execution_count": 35,
   "metadata": {},
   "outputs": [
    {
     "data": {
      "text/html": [
       "'Number of NAs: 317'"
      ],
      "text/latex": [
       "'Number of NAs: 317'"
      ],
      "text/markdown": [
       "'Number of NAs: 317'"
      ],
      "text/plain": [
       "[1] \"Number of NAs: 317\""
      ]
     },
     "metadata": {},
     "output_type": "display_data"
    }
   ],
   "source": [
    "nNA <- 500 - nrow(player_data_tidy)\n",
    "paste(\"Number of NAs:\", nNA, sep = \" \")"
   ]
  },
  {
   "cell_type": "code",
   "execution_count": 37,
   "metadata": {},
   "outputs": [
    {
     "data": {
      "text/html": [
       "<table class=\"dataframe\">\n",
       "<caption>A tibble: 6 × 8</caption>\n",
       "<thead>\n",
       "\t<tr><th scope=col>Name</th><th scope=col>Age</th><th scope=col>Prize.Money</th><th scope=col>Seasons</th><th scope=col>Current.Rank</th><th scope=col>Best.Rank</th><th scope=col>Rank.Range</th><th scope=col>Best.Rank.Range</th></tr>\n",
       "\t<tr><th scope=col>&lt;chr&gt;</th><th scope=col>&lt;dbl&gt;</th><th scope=col>&lt;dbl&gt;</th><th scope=col>&lt;dbl&gt;</th><th scope=col>&lt;dbl&gt;</th><th scope=col>&lt;dbl&gt;</th><th scope=col>&lt;fct&gt;</th><th scope=col>&lt;fct&gt;</th></tr>\n",
       "</thead>\n",
       "<tbody>\n",
       "\t<tr><td>Lukas Lacko          </td><td>32</td><td> 3261567</td><td>14</td><td>144</td><td> 60</td><td>141-160</td><td>41-60  </td></tr>\n",
       "\t<tr><td>Bernard Tomic        </td><td>27</td><td> 6091971</td><td>11</td><td>100</td><td> 21</td><td>81-100 </td><td>21-40  </td></tr>\n",
       "\t<tr><td>Hubert Hurkacz       </td><td>22</td><td> 1517157</td><td> 5</td><td> 33</td><td> 33</td><td>21-40  </td><td>21-40  </td></tr>\n",
       "\t<tr><td>Sanjar Fayziev       </td><td>25</td><td>  122734</td><td> 5</td><td>189</td><td>187</td><td>181-200</td><td>181-200</td></tr>\n",
       "\t<tr><td>Felix Auger Aliassime</td><td>19</td><td> 1893476</td><td> 3</td><td> 51</td><td> 30</td><td>41-60  </td><td>21-40  </td></tr>\n",
       "\t<tr><td>Daniil Medvedev      </td><td>23</td><td>10507693</td><td> 5</td><td>  5</td><td>  4</td><td>1-20   </td><td>1-20   </td></tr>\n",
       "</tbody>\n",
       "</table>\n"
      ],
      "text/latex": [
       "A tibble: 6 × 8\n",
       "\\begin{tabular}{llllllll}\n",
       " Name & Age & Prize.Money & Seasons & Current.Rank & Best.Rank & Rank.Range & Best.Rank.Range\\\\\n",
       " <chr> & <dbl> & <dbl> & <dbl> & <dbl> & <dbl> & <fct> & <fct>\\\\\n",
       "\\hline\n",
       "\t Lukas Lacko           & 32 &  3261567 & 14 & 144 &  60 & 141-160 & 41-60  \\\\\n",
       "\t Bernard Tomic         & 27 &  6091971 & 11 & 100 &  21 & 81-100  & 21-40  \\\\\n",
       "\t Hubert Hurkacz        & 22 &  1517157 &  5 &  33 &  33 & 21-40   & 21-40  \\\\\n",
       "\t Sanjar Fayziev        & 25 &   122734 &  5 & 189 & 187 & 181-200 & 181-200\\\\\n",
       "\t Felix Auger Aliassime & 19 &  1893476 &  3 &  51 &  30 & 41-60   & 21-40  \\\\\n",
       "\t Daniil Medvedev       & 23 & 10507693 &  5 &   5 &   4 & 1-20    & 1-20   \\\\\n",
       "\\end{tabular}\n"
      ],
      "text/markdown": [
       "\n",
       "A tibble: 6 × 8\n",
       "\n",
       "| Name &lt;chr&gt; | Age &lt;dbl&gt; | Prize.Money &lt;dbl&gt; | Seasons &lt;dbl&gt; | Current.Rank &lt;dbl&gt; | Best.Rank &lt;dbl&gt; | Rank.Range &lt;fct&gt; | Best.Rank.Range &lt;fct&gt; |\n",
       "|---|---|---|---|---|---|---|---|\n",
       "| Lukas Lacko           | 32 |  3261567 | 14 | 144 |  60 | 141-160 | 41-60   |\n",
       "| Bernard Tomic         | 27 |  6091971 | 11 | 100 |  21 | 81-100  | 21-40   |\n",
       "| Hubert Hurkacz        | 22 |  1517157 |  5 |  33 |  33 | 21-40   | 21-40   |\n",
       "| Sanjar Fayziev        | 25 |   122734 |  5 | 189 | 187 | 181-200 | 181-200 |\n",
       "| Felix Auger Aliassime | 19 |  1893476 |  3 |  51 |  30 | 41-60   | 21-40   |\n",
       "| Daniil Medvedev       | 23 | 10507693 |  5 |   5 |   4 | 1-20    | 1-20    |\n",
       "\n"
      ],
      "text/plain": [
       "  Name                  Age Prize.Money Seasons Current.Rank Best.Rank\n",
       "1 Lukas Lacko           32   3261567    14      144           60      \n",
       "2 Bernard Tomic         27   6091971    11      100           21      \n",
       "3 Hubert Hurkacz        22   1517157     5       33           33      \n",
       "4 Sanjar Fayziev        25    122734     5      189          187      \n",
       "5 Felix Auger Aliassime 19   1893476     3       51           30      \n",
       "6 Daniil Medvedev       23  10507693     5        5            4      \n",
       "  Rank.Range Best.Rank.Range\n",
       "1 141-160    41-60          \n",
       "2 81-100     21-40          \n",
       "3 21-40      21-40          \n",
       "4 181-200    181-200        \n",
       "5 41-60      21-40          \n",
       "6 1-20       1-20           "
      ]
     },
     "metadata": {},
     "output_type": "display_data"
    }
   ],
   "source": [
    "# cuts Current.Rank and Best.Rank into different intervals with step 20 and adds them to a vector.\n",
    "## \"labels\" arg names each interval.\n",
    "Current_Rank_factor <- player_data_tidy$Current.Rank |>\n",
    "                            cut(c(0, 20, 40, 60, 80, 100, 120, 140, 160, 180, 200), \n",
    "                                labels = c(\"1-20\", \"21-40\", \"41-60\", \"61-80\", \"81-100\",\n",
    "                                           \"101-120\", \"121-140\", \"141-160\", \"161-180\", \"181-200\")) \n",
    "\n",
    "Best_Rank_factor <- player_data_tidy$Best.Rank |>\n",
    "                            cut(c(0, 20, 40, 60, 80, 100, 120, 140, 160, 180, 200), \n",
    "                                labels = c(\"1-20\", \"21-40\", \"41-60\", \"61-80\", \"81-100\",\n",
    "                                           \"101-120\", \"121-140\", \"141-160\", \"161-180\", \"181-200\")) \n",
    "\n",
    "player_data_factor <- mutate(player_data_tidy, Rank.Range = Current_Rank_factor) |>\n",
    "                      mutate(Best.Rank.Range = Best_Rank_factor) #vectors are added to df\n",
    "\n",
    "head(player_data_factor)"
   ]
  },
  {
   "cell_type": "code",
   "execution_count": 36,
   "metadata": {},
   "outputs": [
    {
     "data": {
      "image/png": "[encoded data removed]",
      "text/plain": [
       "plot without title"
      ]
     },
     "metadata": {
      "image/png": {
       "height": 420,
       "width": 480
      }
     },
     "output_type": "display_data"
    }
   ],
   "source": [
    "options(repr.plot.length = 10, repr.plot.width = 8)\n",
    "\n",
    "SeasonsVsRank <- ggplot(player_data_tidy, aes(x = Seasons, y = Current.Rank)) + \n",
    "                    geom_smooth(method = \"lm\", colour = \"red\", formula = y ~ x, se = FALSE) + #Line of best fit, helps in seeing relationship\n",
    "                    geom_point(colour = \"blue\", alpha = 0.4) +\n",
    "                     labs(x = \"Seasons Played\", y = \"Current Rank\", title = \"Seasons vs Rank (lower is better)\") + \n",
    "                     theme(text = element_text(size = 17)) #legend could be added\n",
    "\n",
    "\n",
    "AgeVsSeasons <- ggplot(player_data_tidy, aes(x = Age, y = Seasons)) + \n",
    "                    geom_smooth(method = \"lm\", colour = \"red\", formula = y ~ x, se = FALSE) + #Line of best fit, helps in seeing relationship\n",
    "                    geom_point(color = \"blue\", alpha = 0.4) +\n",
    "                     labs(x = \"Age\", y = \"Seasons Played\", title = \"Age vs Seasons\") + \n",
    "                     theme(text = element_text(size = 17)) #legend could be added\n",
    "\n",
    "\n",
    "SeasonsVsRank"
   ]
  },
  {
   "cell_type": "code",
   "execution_count": 30,
   "metadata": {},
   "outputs": [
    {
     "data": {
      "image/png": "[encoded data removed]",
      "text/plain": [
       "plot without title"
      ]
     },
     "metadata": {
      "image/png": {
       "height": 420,
       "width": 480
      }
     },
     "output_type": "display_data"
    }
   ],
   "source": [
    "AgeVsSeasons"
   ]
  },
  {
   "cell_type": "markdown",
   "metadata": {},
   "source": [
    "We can see the distribution of Age with seasons played has a linear trend in the scatterplot. We will use rank as a category and classify the rank using the relationship with age and seasons played."
   ]
  },
  {
   "cell_type": "markdown",
   "metadata": {},
   "source": [
    "**Methods**\n",
    "\n",
    "We will conduct our data analysis using classification by creating a scatter plot between number of seasons played and age, and we will classify based on Current Rank. As rank is not a factor, we modify it as a range of 50s. These 2 variables are the most potentially useful for predicting athlete rank. Rank indicates historical grade of athletes. Number of seasons indicates experience and therefore may correspond to a higher rank because tennis involves decision-making.\n",
    "\n",
    "We will visualize our data using scatter plot and histogram. A scatter plot shows the linear relationships between Age, Seasons, and Current Rank. It can be used to predict the rank of athletes by using several explanatory variables. A histogram can show the distribution of the sample, and we can see key statistical summary such as sample mean and sample median from histogram. We can also see whether the distribution is normal.\n",
    "\n",
    "**Expected Outcomes & Significance**\n",
    "\n",
    "- We expect to find the relationship between Age, Seasons, and Rank. We predict that athletes who are older and have played more seasons will have higher ranks because they are more experienced. \n",
    "\n",
    "- These findings could help the Sport industry select potential athletes and predict their success. Sport universities could use Seasons Played and Age to determine which athletes they would like to admit in competitions.\n",
    "\n",
    "- Using only seasons and age as predictors of athlete rank is not very accurate because ranks can be influenced by many other factors which are not present in this dataset. For example, weather on the game day, psychological quality of athletes, brands of shoes and sportswear could be potential factors for athlete grades. The physical trait also matters to a great extent of their performance and rank. Future questions could focus on addressing these problems and finding other variables that have relationships with rank. "
   ]
  },
  {
   "cell_type": "code",
   "execution_count": null,
   "metadata": {},
   "outputs": [],
   "source": []
  }
 ],
 "metadata": {
  "kernelspec": {
   "display_name": "Python 3",
   "language": "python",
   "name": "python3"
  },
  "language_info": {
   "codemirror_mode": {
    "name": "ipython",
    "version": 3
   },
   "file_extension": ".py",
   "mimetype": "text/x-python",
   "name": "python",
   "nbconvert_exporter": "python",
   "pygments_lexer": "ipython3",
   "version": "3.8.5"
  }
 },
 "nbformat": 4,
 "nbformat_minor": 5
}
