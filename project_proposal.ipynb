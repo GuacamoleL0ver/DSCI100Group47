{
 "cells": [
  {
   "cell_type": "code",
   "execution_count": 56,
   "id": "9ee594cc-f8e2-4a2e-aed7-9c67ea7b9307",
   "metadata": {},
   "outputs": [],
   "source": [
    "suppressMessages(library(tidyverse)) #loading libraries, suppresses warning messages.\n",
    "suppressMessages(library(tidymodels)) \n",
    "suppressMessages(library(repr))\n",
    "\n",
    "set.seed(4747) #setting seed for reproducibility's sake. 47 is hexadecimal for g, and our group number \"g47\""
   ]
  },
  {
   "cell_type": "markdown",
   "id": "2c9a77f7-5ddf-47ce-91d3-3fbdb7ba97c2",
   "metadata": {},
   "source": [
    "## Project Proposal"
   ]
  },
  {
   "cell_type": "code",
   "execution_count": 2,
   "id": "f6c6adaa-9018-421e-b3c8-ed1a30be5447",
   "metadata": {},
   "outputs": [],
   "source": [
    "url <- \"https://drive.google.com/uc?export=download&id=1_MECmUXZuuILYeEOfonSGqodW6qVdhsS\"\n",
    "dir.create(\"data\")\n",
    "download.file(url, \"data/top500players.csv\") # creates directory \"data\" and downloads the data used into the folder\n",
    "\n",
    "### RUN THIS BLOCK ONLY ONCE "
   ]
  },
  {
   "cell_type": "code",
   "execution_count": 10,
   "id": "cc4eebf2-080e-42a5-8bb5-5a592fc99a93",
   "metadata": {},
   "outputs": [
    {
     "name": "stderr",
     "output_type": "stream",
     "text": [
      "New names:\n",
      "* `` -> ...1\n",
      "\n"
     ]
    },
    {
     "name": "stdout",
     "output_type": "stream",
     "text": [
      "Rows: 500\n",
      "Columns: 38\n",
      "$ ...1               \u001b[3m\u001b[90m<dbl>\u001b[39m\u001b[23m 0, 1, 2, 3, 4, 5, 6, 7, 8, 9, 10, 11, 12, 13, 14, 1~\n",
      "$ Age                \u001b[3m\u001b[90m<chr>\u001b[39m\u001b[23m \"26 (25-04-1993)\", \"18 (22-12-2001)\", \"32 (03-11-19~\n",
      "$ Country            \u001b[3m\u001b[90m<chr>\u001b[39m\u001b[23m \"Brazil\", \"United Kingdom\", \"Slovakia\", \"Korea, Rep~\n",
      "$ Plays              \u001b[3m\u001b[90m<chr>\u001b[39m\u001b[23m \"Right-handed\", \"Left-handed\", \"Right-handed\", \"Rig~\n",
      "$ Wikipedia          \u001b[3m\u001b[90m<chr>\u001b[39m\u001b[23m \"Wikipedia\", \"Wikipedia\", \"Wikipedia\", \"Wikipedia\",~\n",
      "$ `Current Rank`     \u001b[3m\u001b[90m<chr>\u001b[39m\u001b[23m \"378 (97)\", \"326 (119)\", \"178 (280)\", \"236 (199)\", ~\n",
      "$ `Best Rank`        \u001b[3m\u001b[90m<chr>\u001b[39m\u001b[23m \"363 (04-11-2019)\", \"316 (14-10-2019)\", \"44 (14-01-~\n",
      "$ Name               \u001b[3m\u001b[90m<chr>\u001b[39m\u001b[23m \"Oscar Jose Gutierrez\", \"Jack Draper\", \"Lukas Lacko~\n",
      "$ Backhand           \u001b[3m\u001b[90m<chr>\u001b[39m\u001b[23m NA, \"Two-handed\", \"Two-handed\", \"Two-handed\", \"Two-~\n",
      "$ `Prize Money`      \u001b[3m\u001b[90m<chr>\u001b[39m\u001b[23m NA, \"$59,040\", \"US$3,261,567\", \"$374,093\", \"US$6,09~\n",
      "$ Height             \u001b[3m\u001b[90m<chr>\u001b[39m\u001b[23m NA, NA, \"185 cm\", NA, \"193 cm\", NA, NA, NA, NA, NA,~\n",
      "$ `Favorite Surface` \u001b[3m\u001b[90m<chr>\u001b[39m\u001b[23m NA, NA, \"Fast (H, G) 40%\", NA, \"Fast (H, G) 36%\", \"~\n",
      "$ `Turned Pro`       \u001b[3m\u001b[90m<dbl>\u001b[39m\u001b[23m NA, NA, 2005, NA, 2008, 2015, 2010, NA, NA, NA, 201~\n",
      "$ Seasons            \u001b[3m\u001b[90m<dbl>\u001b[39m\u001b[23m NA, NA, 14, 2, 11, 5, 1, 1, 5, 3, 3, 5, 8, NA, 5, 1~\n",
      "$ Active             \u001b[3m\u001b[90m<chr>\u001b[39m\u001b[23m NA, NA, \"Yes\", \"Yes\", \"Yes\", \"Yes\", NA, \"Yes\", \"Yes~\n",
      "$ `Current Elo Rank` \u001b[3m\u001b[90m<chr>\u001b[39m\u001b[23m NA, NA, \"144 (1764)\", NA, \"100 (1826)\", \"33 (1983)\"~\n",
      "$ `Best Elo Rank`    \u001b[3m\u001b[90m<chr>\u001b[39m\u001b[23m NA, NA, \"60 (06-02-2012)\", NA, \"21 (23-03-2015)\", \"~\n",
      "$ `Peak Elo Rating`  \u001b[3m\u001b[90m<chr>\u001b[39m\u001b[23m NA, NA, \"1886 (06-02-2012)\", NA, \"2037 (01-02-2016)~\n",
      "$ `Last Appearance`  \u001b[3m\u001b[90m<chr>\u001b[39m\u001b[23m NA, NA, \"18-03-2019\", \"19-08-2019\", \"14-10-2019\", \"~\n",
      "$ Titles             \u001b[3m\u001b[90m<dbl>\u001b[39m\u001b[23m NA, NA, NA, NA, 4, 1, NA, NA, NA, NA, NA, 7, NA, NA~\n",
      "$ `GOAT Rank`        \u001b[3m\u001b[90m<chr>\u001b[39m\u001b[23m NA, NA, NA, NA, \"264 (6)\", \"489 (1)\", NA, NA, NA, N~\n",
      "$ `Best Season`      \u001b[3m\u001b[90m<dbl>\u001b[39m\u001b[23m NA, NA, NA, NA, 2015, 2019, NA, NA, NA, NA, 2019, 2~\n",
      "$ Retired            \u001b[3m\u001b[90m<dbl>\u001b[39m\u001b[23m NA, NA, NA, NA, NA, NA, 2017, NA, NA, NA, NA, NA, N~\n",
      "$ Masters            \u001b[3m\u001b[90m<dbl>\u001b[39m\u001b[23m NA, NA, NA, NA, NA, NA, NA, NA, NA, NA, NA, 2, NA, ~\n",
      "$ Birthplace         \u001b[3m\u001b[90m<chr>\u001b[39m\u001b[23m NA, NA, NA, NA, NA, NA, NA, NA, NA, NA, NA, NA, NA,~\n",
      "$ Residence          \u001b[3m\u001b[90m<chr>\u001b[39m\u001b[23m NA, NA, NA, NA, NA, NA, NA, NA, NA, NA, NA, NA, NA,~\n",
      "$ Weight             \u001b[3m\u001b[90m<chr>\u001b[39m\u001b[23m NA, NA, NA, NA, NA, NA, NA, NA, NA, NA, NA, NA, NA,~\n",
      "$ Coach              \u001b[3m\u001b[90m<chr>\u001b[39m\u001b[23m NA, NA, NA, NA, NA, NA, NA, NA, NA, NA, NA, NA, NA,~\n",
      "$ Facebook           \u001b[3m\u001b[90m<chr>\u001b[39m\u001b[23m NA, NA, NA, NA, NA, NA, NA, NA, NA, NA, NA, NA, NA,~\n",
      "$ Twitter            \u001b[3m\u001b[90m<chr>\u001b[39m\u001b[23m NA, NA, NA, NA, NA, NA, NA, NA, NA, NA, NA, NA, NA,~\n",
      "$ Nicknames          \u001b[3m\u001b[90m<chr>\u001b[39m\u001b[23m NA, NA, NA, NA, NA, NA, NA, NA, NA, NA, NA, NA, NA,~\n",
      "$ `Grand Slams`      \u001b[3m\u001b[90m<dbl>\u001b[39m\u001b[23m NA, NA, NA, NA, NA, NA, NA, NA, NA, NA, NA, NA, NA,~\n",
      "$ `Davis Cups`       \u001b[3m\u001b[90m<dbl>\u001b[39m\u001b[23m NA, NA, NA, NA, NA, NA, NA, NA, NA, NA, NA, NA, NA,~\n",
      "$ `Web Site`         \u001b[3m\u001b[90m<chr>\u001b[39m\u001b[23m NA, NA, NA, NA, NA, NA, NA, NA, NA, NA, NA, NA, NA,~\n",
      "$ `Team Cups`        \u001b[3m\u001b[90m<dbl>\u001b[39m\u001b[23m NA, NA, NA, NA, NA, NA, NA, NA, NA, NA, NA, NA, NA,~\n",
      "$ Olympics           \u001b[3m\u001b[90m<dbl>\u001b[39m\u001b[23m NA, NA, NA, NA, NA, NA, NA, NA, NA, NA, NA, NA, NA,~\n",
      "$ `Weeks at No. 1`   \u001b[3m\u001b[90m<dbl>\u001b[39m\u001b[23m NA, NA, NA, NA, NA, NA, NA, NA, NA, NA, NA, NA, NA,~\n",
      "$ `Tour Finals`      \u001b[3m\u001b[90m<dbl>\u001b[39m\u001b[23m NA, NA, NA, NA, NA, NA, NA, NA, NA, NA, NA, NA, NA,~\n"
     ]
    }
   ],
   "source": [
    "player_data <- read_csv(\"data/top500players.csv\", show_col_types = FALSE)\n",
    "glimpse(player_data)"
   ]
  },
  {
   "cell_type": "code",
   "execution_count": 54,
   "id": "6d352876-059a-4c4d-955c-c82692db01f0",
   "metadata": {},
   "outputs": [
    {
     "data": {
      "text/html": [
       "<table class=\"dataframe\">\n",
       "<caption>A tibble: 6 × 4</caption>\n",
       "<thead>\n",
       "\t<tr><th scope=col>Age</th><th scope=col>Name</th><th scope=col>Seasons</th><th scope=col>Current.Rank</th></tr>\n",
       "\t<tr><th scope=col>&lt;dbl&gt;</th><th scope=col>&lt;chr&gt;</th><th scope=col>&lt;dbl&gt;</th><th scope=col>&lt;dbl&gt;</th></tr>\n",
       "</thead>\n",
       "<tbody>\n",
       "\t<tr><td>32</td><td>Lukas Lacko          </td><td>14</td><td>144</td></tr>\n",
       "\t<tr><td>27</td><td>Bernard Tomic        </td><td>11</td><td>100</td></tr>\n",
       "\t<tr><td>22</td><td>Hubert Hurkacz       </td><td> 5</td><td> 33</td></tr>\n",
       "\t<tr><td>25</td><td>Sanjar Fayziev       </td><td> 5</td><td>189</td></tr>\n",
       "\t<tr><td>19</td><td>Felix Auger Aliassime</td><td> 3</td><td> 51</td></tr>\n",
       "\t<tr><td>23</td><td>Daniil Medvedev      </td><td> 5</td><td>  5</td></tr>\n",
       "</tbody>\n",
       "</table>\n"
      ],
      "text/latex": [
       "A tibble: 6 × 4\n",
       "\\begin{tabular}{llll}\n",
       " Age & Name & Seasons & Current.Rank\\\\\n",
       " <dbl> & <chr> & <dbl> & <dbl>\\\\\n",
       "\\hline\n",
       "\t 32 & Lukas Lacko           & 14 & 144\\\\\n",
       "\t 27 & Bernard Tomic         & 11 & 100\\\\\n",
       "\t 22 & Hubert Hurkacz        &  5 &  33\\\\\n",
       "\t 25 & Sanjar Fayziev        &  5 & 189\\\\\n",
       "\t 19 & Felix Auger Aliassime &  3 &  51\\\\\n",
       "\t 23 & Daniil Medvedev       &  5 &   5\\\\\n",
       "\\end{tabular}\n"
      ],
      "text/markdown": [
       "\n",
       "A tibble: 6 × 4\n",
       "\n",
       "| Age &lt;dbl&gt; | Name &lt;chr&gt; | Seasons &lt;dbl&gt; | Current.Rank &lt;dbl&gt; |\n",
       "|---|---|---|---|\n",
       "| 32 | Lukas Lacko           | 14 | 144 |\n",
       "| 27 | Bernard Tomic         | 11 | 100 |\n",
       "| 22 | Hubert Hurkacz        |  5 |  33 |\n",
       "| 25 | Sanjar Fayziev        |  5 | 189 |\n",
       "| 19 | Felix Auger Aliassime |  3 |  51 |\n",
       "| 23 | Daniil Medvedev       |  5 |   5 |\n",
       "\n"
      ],
      "text/plain": [
       "  Age Name                  Seasons Current.Rank\n",
       "1 32  Lukas Lacko           14      144         \n",
       "2 27  Bernard Tomic         11      100         \n",
       "3 22  Hubert Hurkacz         5       33         \n",
       "4 25  Sanjar Fayziev         5      189         \n",
       "5 19  Felix Auger Aliassime  3       51         \n",
       "6 23  Daniil Medvedev        5        5         "
      ]
     },
     "metadata": {},
     "output_type": "display_data"
    },
    {
     "data": {
      "text/html": [
       "<table class=\"dataframe\">\n",
       "<caption>A tibble: 6 × 5</caption>\n",
       "<thead>\n",
       "\t<tr><th scope=col>Age</th><th scope=col>Name</th><th scope=col>Seasons</th><th scope=col>Current.Rank</th><th scope=col>Rank.Range</th></tr>\n",
       "\t<tr><th scope=col>&lt;dbl&gt;</th><th scope=col>&lt;chr&gt;</th><th scope=col>&lt;dbl&gt;</th><th scope=col>&lt;dbl&gt;</th><th scope=col>&lt;fct&gt;</th></tr>\n",
       "</thead>\n",
       "<tbody>\n",
       "\t<tr><td>32</td><td>Lukas Lacko          </td><td>14</td><td>144</td><td>141-160</td></tr>\n",
       "\t<tr><td>27</td><td>Bernard Tomic        </td><td>11</td><td>100</td><td>81-100 </td></tr>\n",
       "\t<tr><td>22</td><td>Hubert Hurkacz       </td><td> 5</td><td> 33</td><td>21-40  </td></tr>\n",
       "\t<tr><td>25</td><td>Sanjar Fayziev       </td><td> 5</td><td>189</td><td>181-200</td></tr>\n",
       "\t<tr><td>19</td><td>Felix Auger Aliassime</td><td> 3</td><td> 51</td><td>41-60  </td></tr>\n",
       "\t<tr><td>23</td><td>Daniil Medvedev      </td><td> 5</td><td>  5</td><td>1-20   </td></tr>\n",
       "</tbody>\n",
       "</table>\n"
      ],
      "text/latex": [
       "A tibble: 6 × 5\n",
       "\\begin{tabular}{lllll}\n",
       " Age & Name & Seasons & Current.Rank & Rank.Range\\\\\n",
       " <dbl> & <chr> & <dbl> & <dbl> & <fct>\\\\\n",
       "\\hline\n",
       "\t 32 & Lukas Lacko           & 14 & 144 & 141-160\\\\\n",
       "\t 27 & Bernard Tomic         & 11 & 100 & 81-100 \\\\\n",
       "\t 22 & Hubert Hurkacz        &  5 &  33 & 21-40  \\\\\n",
       "\t 25 & Sanjar Fayziev        &  5 & 189 & 181-200\\\\\n",
       "\t 19 & Felix Auger Aliassime &  3 &  51 & 41-60  \\\\\n",
       "\t 23 & Daniil Medvedev       &  5 &   5 & 1-20   \\\\\n",
       "\\end{tabular}\n"
      ],
      "text/markdown": [
       "\n",
       "A tibble: 6 × 5\n",
       "\n",
       "| Age &lt;dbl&gt; | Name &lt;chr&gt; | Seasons &lt;dbl&gt; | Current.Rank &lt;dbl&gt; | Rank.Range &lt;fct&gt; |\n",
       "|---|---|---|---|---|\n",
       "| 32 | Lukas Lacko           | 14 | 144 | 141-160 |\n",
       "| 27 | Bernard Tomic         | 11 | 100 | 81-100  |\n",
       "| 22 | Hubert Hurkacz        |  5 |  33 | 21-40   |\n",
       "| 25 | Sanjar Fayziev        |  5 | 189 | 181-200 |\n",
       "| 19 | Felix Auger Aliassime |  3 |  51 | 41-60   |\n",
       "| 23 | Daniil Medvedev       |  5 |   5 | 1-20    |\n",
       "\n"
      ],
      "text/plain": [
       "  Age Name                  Seasons Current.Rank Rank.Range\n",
       "1 32  Lukas Lacko           14      144          141-160   \n",
       "2 27  Bernard Tomic         11      100          81-100    \n",
       "3 22  Hubert Hurkacz         5       33          21-40     \n",
       "4 25  Sanjar Fayziev         5      189          181-200   \n",
       "5 19  Felix Auger Aliassime  3       51          41-60     \n",
       "6 23  Daniil Medvedev        5        5          1-20      "
      ]
     },
     "metadata": {},
     "output_type": "display_data"
    }
   ],
   "source": [
    "colnames(player_data) <- make.names(colnames(player_data))\n",
    "\n",
    "player_data_tidy <- player_data |>\n",
    "                        separate(Age, c(\"Age\", NA), sep = \" \") |> #Removes the DOB next to the Age\n",
    "                        separate(Current.Elo.Rank, c(\"Current.Rank\", NA), sep = \" \") |> #Removes the elo next to the ranks\n",
    "                        select(Age, Name, Seasons, Current.Rank) |>\n",
    "                        na.omit() |>\n",
    "                        mutate(Age = as.numeric(Age)) |>\n",
    "                        mutate(Current.Rank = as.numeric(Current.Rank))\n",
    "\n",
    "head(player_data_tidy)\n",
    "\n",
    "# cuts Current.Rank into different intervals with step 20.\n",
    "## \"labels\" arg names each interval.\n",
    "Current_Rank_factor <- player_data_tidy$Current.Rank |>\n",
    "                            cut(c(0, 20, 40, 60, 80, 100, 120, 140, 160, 180, 200), \n",
    "                                labels = c(\"1-20\", \"21-40\", \"41-60\", \"61-80\", \"81-100\",\n",
    "                                           \"101-120\", \"121-140\", \"141-160\", \"161-180\", \"181-200\")) \n",
    "\n",
    "player_data_factor <- mutate(player_data_tidy, Rank.Range = Current_Rank_factor) #vector is added to df\n",
    "head(player_data_factor)"
   ]
  },
  {
   "cell_type": "code",
   "execution_count": 36,
   "id": "5419bf70-e869-4766-86c7-4500553c7f88",
   "metadata": {},
   "outputs": [
    {
     "data": {
      "image/png": "[encoded data removed]",
      "text/plain": [
       "plot without title"
      ]
     },
     "metadata": {
      "image/png": {
       "height": 420,
       "width": 480
      }
     },
     "output_type": "display_data"
    },
    {
     "data": {
      "image/png": "[encoded data removed]",
      "text/plain": [
       "plot without title"
      ]
     },
     "metadata": {
      "image/png": {
       "height": 420,
       "width": 480
      }
     },
     "output_type": "display_data"
    }
   ],
   "source": [
    "options(repr.plot.length = 10, repr.plot.width = 8)\n",
    "\n",
    "SeasonsVsRank <- ggplot(player_data_tidy, aes(x = Seasons, y = Current.Rank)) + \n",
    "                    geom_smooth(method = \"lm\", colour = \"red\", formula = y ~ x, se = FALSE) + #Line of best fit, helps in seeing relationship\n",
    "                    geom_point(colour = \"blue\", alpha = 0.4) +\n",
    "                     labs(x = \"Seasons Played\", y = \"Current Rank\", title = \"Seasons vs Rank (lower is better)\") + \n",
    "                     theme(text = element_text(size = 17)) #legend could be added\n",
    "\n",
    "\n",
    "AgeVsSeasons <- ggplot(player_data_tidy, aes(x = Age, y = Seasons)) + \n",
    "                    geom_smooth(method = \"lm\", colour = \"red\", formula = y ~ x, se = FALSE) + #Line of best fit, helps in seeing relationship\n",
    "                    geom_point(color = \"blue\", alpha = 0.4) +\n",
    "                     labs(x = \"Age\", y = \"Seasons Played\", title = \"Age vs Seasons\") + \n",
    "                     theme(text = element_text(size = 17)) #legend could be added\n",
    "\n",
    "\n",
    "SeasonsVsRank\n",
    "AgeVsSeasons"
   ]
  },
  {
   "cell_type": "code",
   "execution_count": 86,
   "id": "8759f6ae-9fcd-45d0-9ed7-623a5594d234",
   "metadata": {},
   "outputs": [
    {
     "name": "stderr",
     "output_type": "stream",
     "text": [
      "\u001b[33m!\u001b[39m \u001b[33mFold1: internal: No observations were detected in `truth` for level(s): '181-20...\u001b[39m\n",
      "\n"
     ]
    },
    {
     "data": {
      "text/html": [
       "<table class=\"dataframe\">\n",
       "<caption>A tibble: 17 × 7</caption>\n",
       "<thead>\n",
       "\t<tr><th scope=col>neighbors</th><th scope=col>.metric</th><th scope=col>.estimator</th><th scope=col>mean</th><th scope=col>n</th><th scope=col>std_err</th><th scope=col>.config</th></tr>\n",
       "\t<tr><th scope=col>&lt;dbl&gt;</th><th scope=col>&lt;chr&gt;</th><th scope=col>&lt;chr&gt;</th><th scope=col>&lt;dbl&gt;</th><th scope=col>&lt;int&gt;</th><th scope=col>&lt;dbl&gt;</th><th scope=col>&lt;chr&gt;</th></tr>\n",
       "</thead>\n",
       "<tbody>\n",
       "\t<tr><td>19</td><td>accuracy</td><td>multiclass</td><td>0.1693722</td><td>5</td><td>0.02327197</td><td>Preprocessor1_Model06</td></tr>\n",
       "\t<tr><td>30</td><td>accuracy</td><td>multiclass</td><td>0.1622458</td><td>5</td><td>0.02609884</td><td>Preprocessor1_Model17</td></tr>\n",
       "\t<tr><td>25</td><td>accuracy</td><td>multiclass</td><td>0.1553492</td><td>5</td><td>0.02135036</td><td>Preprocessor1_Model12</td></tr>\n",
       "\t<tr><td>28</td><td>accuracy</td><td>multiclass</td><td>0.1553492</td><td>5</td><td>0.02397382</td><td>Preprocessor1_Model15</td></tr>\n",
       "\t<tr><td>29</td><td>accuracy</td><td>multiclass</td><td>0.1553492</td><td>5</td><td>0.02397382</td><td>Preprocessor1_Model16</td></tr>\n",
       "\t<tr><td>22</td><td>accuracy</td><td>multiclass</td><td>0.1545535</td><td>5</td><td>0.01545825</td><td>Preprocessor1_Model09</td></tr>\n",
       "\t<tr><td>27</td><td>accuracy</td><td>multiclass</td><td>0.1484527</td><td>5</td><td>0.02373738</td><td>Preprocessor1_Model14</td></tr>\n",
       "\t<tr><td>18</td><td>accuracy</td><td>multiclass</td><td>0.1473210</td><td>5</td><td>0.02047629</td><td>Preprocessor1_Model05</td></tr>\n",
       "\t<tr><td>17</td><td>accuracy</td><td>multiclass</td><td>0.1470911</td><td>5</td><td>0.01308067</td><td>Preprocessor1_Model04</td></tr>\n",
       "\t<tr><td>14</td><td>accuracy</td><td>multiclass</td><td>0.1470911</td><td>5</td><td>0.02297438</td><td>Preprocessor1_Model01</td></tr>\n",
       "\t<tr><td>23</td><td>accuracy</td><td>multiclass</td><td>0.1409903</td><td>5</td><td>0.01435309</td><td>Preprocessor1_Model10</td></tr>\n",
       "\t<tr><td>24</td><td>accuracy</td><td>multiclass</td><td>0.1407604</td><td>5</td><td>0.01749379</td><td>Preprocessor1_Model11</td></tr>\n",
       "\t<tr><td>26</td><td>accuracy</td><td>multiclass</td><td>0.1407604</td><td>5</td><td>0.01749379</td><td>Preprocessor1_Model13</td></tr>\n",
       "\t<tr><td>21</td><td>accuracy</td><td>multiclass</td><td>0.1404244</td><td>5</td><td>0.01616810</td><td>Preprocessor1_Model08</td></tr>\n",
       "\t<tr><td>15</td><td>accuracy</td><td>multiclass</td><td>0.1401945</td><td>5</td><td>0.01921351</td><td>Preprocessor1_Model02</td></tr>\n",
       "\t<tr><td>16</td><td>accuracy</td><td>multiclass</td><td>0.1401945</td><td>5</td><td>0.01921351</td><td>Preprocessor1_Model03</td></tr>\n",
       "\t<tr><td>20</td><td>accuracy</td><td>multiclass</td><td>0.1258355</td><td>5</td><td>0.01340470</td><td>Preprocessor1_Model07</td></tr>\n",
       "</tbody>\n",
       "</table>\n"
      ],
      "text/latex": [
       "A tibble: 17 × 7\n",
       "\\begin{tabular}{lllllll}\n",
       " neighbors & .metric & .estimator & mean & n & std\\_err & .config\\\\\n",
       " <dbl> & <chr> & <chr> & <dbl> & <int> & <dbl> & <chr>\\\\\n",
       "\\hline\n",
       "\t 19 & accuracy & multiclass & 0.1693722 & 5 & 0.02327197 & Preprocessor1\\_Model06\\\\\n",
       "\t 30 & accuracy & multiclass & 0.1622458 & 5 & 0.02609884 & Preprocessor1\\_Model17\\\\\n",
       "\t 25 & accuracy & multiclass & 0.1553492 & 5 & 0.02135036 & Preprocessor1\\_Model12\\\\\n",
       "\t 28 & accuracy & multiclass & 0.1553492 & 5 & 0.02397382 & Preprocessor1\\_Model15\\\\\n",
       "\t 29 & accuracy & multiclass & 0.1553492 & 5 & 0.02397382 & Preprocessor1\\_Model16\\\\\n",
       "\t 22 & accuracy & multiclass & 0.1545535 & 5 & 0.01545825 & Preprocessor1\\_Model09\\\\\n",
       "\t 27 & accuracy & multiclass & 0.1484527 & 5 & 0.02373738 & Preprocessor1\\_Model14\\\\\n",
       "\t 18 & accuracy & multiclass & 0.1473210 & 5 & 0.02047629 & Preprocessor1\\_Model05\\\\\n",
       "\t 17 & accuracy & multiclass & 0.1470911 & 5 & 0.01308067 & Preprocessor1\\_Model04\\\\\n",
       "\t 14 & accuracy & multiclass & 0.1470911 & 5 & 0.02297438 & Preprocessor1\\_Model01\\\\\n",
       "\t 23 & accuracy & multiclass & 0.1409903 & 5 & 0.01435309 & Preprocessor1\\_Model10\\\\\n",
       "\t 24 & accuracy & multiclass & 0.1407604 & 5 & 0.01749379 & Preprocessor1\\_Model11\\\\\n",
       "\t 26 & accuracy & multiclass & 0.1407604 & 5 & 0.01749379 & Preprocessor1\\_Model13\\\\\n",
       "\t 21 & accuracy & multiclass & 0.1404244 & 5 & 0.01616810 & Preprocessor1\\_Model08\\\\\n",
       "\t 15 & accuracy & multiclass & 0.1401945 & 5 & 0.01921351 & Preprocessor1\\_Model02\\\\\n",
       "\t 16 & accuracy & multiclass & 0.1401945 & 5 & 0.01921351 & Preprocessor1\\_Model03\\\\\n",
       "\t 20 & accuracy & multiclass & 0.1258355 & 5 & 0.01340470 & Preprocessor1\\_Model07\\\\\n",
       "\\end{tabular}\n"
      ],
      "text/markdown": [
       "\n",
       "A tibble: 17 × 7\n",
       "\n",
       "| neighbors &lt;dbl&gt; | .metric &lt;chr&gt; | .estimator &lt;chr&gt; | mean &lt;dbl&gt; | n &lt;int&gt; | std_err &lt;dbl&gt; | .config &lt;chr&gt; |\n",
       "|---|---|---|---|---|---|---|\n",
       "| 19 | accuracy | multiclass | 0.1693722 | 5 | 0.02327197 | Preprocessor1_Model06 |\n",
       "| 30 | accuracy | multiclass | 0.1622458 | 5 | 0.02609884 | Preprocessor1_Model17 |\n",
       "| 25 | accuracy | multiclass | 0.1553492 | 5 | 0.02135036 | Preprocessor1_Model12 |\n",
       "| 28 | accuracy | multiclass | 0.1553492 | 5 | 0.02397382 | Preprocessor1_Model15 |\n",
       "| 29 | accuracy | multiclass | 0.1553492 | 5 | 0.02397382 | Preprocessor1_Model16 |\n",
       "| 22 | accuracy | multiclass | 0.1545535 | 5 | 0.01545825 | Preprocessor1_Model09 |\n",
       "| 27 | accuracy | multiclass | 0.1484527 | 5 | 0.02373738 | Preprocessor1_Model14 |\n",
       "| 18 | accuracy | multiclass | 0.1473210 | 5 | 0.02047629 | Preprocessor1_Model05 |\n",
       "| 17 | accuracy | multiclass | 0.1470911 | 5 | 0.01308067 | Preprocessor1_Model04 |\n",
       "| 14 | accuracy | multiclass | 0.1470911 | 5 | 0.02297438 | Preprocessor1_Model01 |\n",
       "| 23 | accuracy | multiclass | 0.1409903 | 5 | 0.01435309 | Preprocessor1_Model10 |\n",
       "| 24 | accuracy | multiclass | 0.1407604 | 5 | 0.01749379 | Preprocessor1_Model11 |\n",
       "| 26 | accuracy | multiclass | 0.1407604 | 5 | 0.01749379 | Preprocessor1_Model13 |\n",
       "| 21 | accuracy | multiclass | 0.1404244 | 5 | 0.01616810 | Preprocessor1_Model08 |\n",
       "| 15 | accuracy | multiclass | 0.1401945 | 5 | 0.01921351 | Preprocessor1_Model02 |\n",
       "| 16 | accuracy | multiclass | 0.1401945 | 5 | 0.01921351 | Preprocessor1_Model03 |\n",
       "| 20 | accuracy | multiclass | 0.1258355 | 5 | 0.01340470 | Preprocessor1_Model07 |\n",
       "\n"
      ],
      "text/plain": [
       "   neighbors .metric  .estimator mean      n std_err    .config              \n",
       "1  19        accuracy multiclass 0.1693722 5 0.02327197 Preprocessor1_Model06\n",
       "2  30        accuracy multiclass 0.1622458 5 0.02609884 Preprocessor1_Model17\n",
       "3  25        accuracy multiclass 0.1553492 5 0.02135036 Preprocessor1_Model12\n",
       "4  28        accuracy multiclass 0.1553492 5 0.02397382 Preprocessor1_Model15\n",
       "5  29        accuracy multiclass 0.1553492 5 0.02397382 Preprocessor1_Model16\n",
       "6  22        accuracy multiclass 0.1545535 5 0.01545825 Preprocessor1_Model09\n",
       "7  27        accuracy multiclass 0.1484527 5 0.02373738 Preprocessor1_Model14\n",
       "8  18        accuracy multiclass 0.1473210 5 0.02047629 Preprocessor1_Model05\n",
       "9  17        accuracy multiclass 0.1470911 5 0.01308067 Preprocessor1_Model04\n",
       "10 14        accuracy multiclass 0.1470911 5 0.02297438 Preprocessor1_Model01\n",
       "11 23        accuracy multiclass 0.1409903 5 0.01435309 Preprocessor1_Model10\n",
       "12 24        accuracy multiclass 0.1407604 5 0.01749379 Preprocessor1_Model11\n",
       "13 26        accuracy multiclass 0.1407604 5 0.01749379 Preprocessor1_Model13\n",
       "14 21        accuracy multiclass 0.1404244 5 0.01616810 Preprocessor1_Model08\n",
       "15 15        accuracy multiclass 0.1401945 5 0.01921351 Preprocessor1_Model02\n",
       "16 16        accuracy multiclass 0.1401945 5 0.01921351 Preprocessor1_Model03\n",
       "17 20        accuracy multiclass 0.1258355 5 0.01340470 Preprocessor1_Model07"
      ]
     },
     "metadata": {},
     "output_type": "display_data"
    }
   ],
   "source": [
    "set.seed(4747)\n",
    "\n",
    "player_split <- initial_split(player_data_factor, prop = .80, strata = Rank.Range)\n",
    "player_training <- training(player_split)\n",
    "player_testing <- testing(player_split)\n",
    "\n",
    "player_vfold <- vfold_cv(player_training, v = 5, strata = Rank.Range)\n",
    "\n",
    "player_recipe <- recipe(Rank.Range ~ Seasons, data = player_training) |>\n",
    "                    step_scale(all_predictors()) |>\n",
    "                    step_center(all_predictors())\n",
    "    \n",
    "knn_spec <- nearest_neighbor(weight_func = \"rectangular\", neighbors = tune()) |>\n",
    "                set_engine(\"kknn\") |>\n",
    "                set_mode(\"classification\")\n",
    "\n",
    "k_vals <- tibble(neighbors = seq(from = 14, to = 30, by = 1))\n",
    "\n",
    "player_resamples_metrics <- workflow() |>\n",
    "                            add_model(knn_spec) |>\n",
    "                            add_recipe(player_recipe) |>\n",
    "                            tune_grid(resamples = player_vfold, grid = k_vals) |>\n",
    "                            collect_metrics()\n",
    "\n",
    "resamples_metrics_clean <- player_resamples_metrics |>\n",
    "                                filter(.metric == \"accuracy\") |>\n",
    "                                arrange(desc(mean))\n",
    "\n",
    "resamples_metrics_clean"
   ]
  },
  {
   "cell_type": "code",
   "execution_count": null,
   "id": "a13b279b-28d8-4cff-a7eb-c1eb935c554b",
   "metadata": {},
   "outputs": [],
   "source": []
  }
 ],
 "metadata": {
  "kernelspec": {
   "display_name": "R",
   "language": "R",
   "name": "ir"
  },
  "language_info": {
   "codemirror_mode": "r",
   "file_extension": ".r",
   "mimetype": "text/x-r-source",
   "name": "R",
   "pygments_lexer": "r",
   "version": "4.1.1"
  }
 },
 "nbformat": 4,
 "nbformat_minor": 5
}
