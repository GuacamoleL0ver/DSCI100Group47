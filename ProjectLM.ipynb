{
 "cells": [
  {
   "cell_type": "code",
   "execution_count": null,
   "id": "092b85be",
   "metadata": {},
   "outputs": [],
   "source": [
    "install.packages(\"knitr\") \n",
    "\n",
    "#installs knitr, a package used to render tables here.\n",
    "#it's here because we didn't use it in class. No need to run this if you have it already."
   ]
  },
  {
   "cell_type": "markdown",
   "id": "930bdf84",
   "metadata": {},
   "source": [
    "## Project Report"
   ]
  },
  {
   "cell_type": "markdown",
   "id": "146994fc",
   "metadata": {},
   "source": [
    "**Introduction**\n",
    "\n",
    "Tennis is a sport that is played using a racket and a rubber ball. It can be played with either one or two players on each team, and only 2 teams play at a time. The objective of the game is to pass the ball over the net in such a way so that the opponent is unable to return the ball.[1] For every time the opponent misses the ball, the team earns points. The first team to reach the specified number of points wins a game, and after winning 6 games, the team is said to have won a \"set\". The first team to win 3 sets wins the match. Every year a new season starts. Throughout the seasons, players travel around the world to attend different tournaments. For each winning match, these players earn points that are used to rank them. Therefore, each player gets a rank corresponding to the number of wins. Throughout tennis history, there have been great battles between veterans to attain the top spot and become the best tennis player of all time.[2]\n",
    "\n",
    "In our data analysis, we aim to answer the following question: “What relationship does a player’s current ranking, number of seasons played, and prize money have on a player’s best ranking?” We will be using the “Player Stats for Top 500 Players” dataset which includes statistical information about the top 500 tennis players in the world.[3] Specifically, we will focus on the following variables: “Age, Prize Money, Seasons, Current Rank, and Best Rank”. We will use knn regression to do this analysis."
   ]
  },
  {
   "cell_type": "markdown",
   "id": "c19b42c6",
   "metadata": {},
   "source": [
    "**Methods and Results**"
   ]
  },
  {
   "cell_type": "code",
   "execution_count": null,
   "id": "3a94e859",
   "metadata": {},
   "outputs": [],
   "source": [
    "suppressMessages(library(tidyverse))\n",
    "suppressMessages(library(tidymodels))\n",
    "suppressMessages(library(repr))\n",
    "suppressMessages(library(GGally))\n",
    "suppressMessages(library(knitr))\n",
    "\n",
    "\n",
    "\n",
    "set.seed(4747) #hex decimal of g is 47, we are group 47. Thus: 4747 = g47"
   ]
  },
  {
   "cell_type": "markdown",
   "id": "2da0b1aa",
   "metadata": {},
   "source": [
    "Here we load all the libraries which we will be using to do the analysis on our dataset."
   ]
  },
  {
   "cell_type": "code",
   "execution_count": null,
   "id": "56d3ec40",
   "metadata": {},
   "outputs": [],
   "source": [
    "ifelse(file.exists(\"data\"), stop(\"File already exists. If CSV file isn't downloaded, delete data folder\"), dir.create(\"data\"))\n",
    "#checks if directory exists, to prevent possible errors with r kernel crashing from running this twice.\n",
    "\n",
    "\n",
    "url <- \"https://drive.google.com/uc?export=download&id=1_MECmUXZuuILYeEOfonSGqodW6qVdhsS\"\n",
    "download.file(url, \"data/top500players.csv\") # creates directory \"data\" and downloads the data used into the folder\n",
    "\n",
    "### RUN THIS BLOCK ONLY ONCE "
   ]
  },
  {
   "cell_type": "markdown",
   "id": "2e462144",
   "metadata": {},
   "source": [
    "In this code block, we check if the file \"data\" already exists. If yes, we will force an error to avoid creating replicates. If not, we will download the data from the website and store it in a folder named data and name the file \"top500players.csv\". "
   ]
  },
  {
   "cell_type": "code",
   "execution_count": null,
   "id": "eef18d92",
   "metadata": {},
   "outputs": [],
   "source": [
    "player_data <- read_csv(\"data/top500players.csv\", show_col_types = FALSE)\n",
    "glimpse(player_data)"
   ]
  },
  {
   "cell_type": "markdown",
   "id": "eb277ada",
   "metadata": {},
   "source": [
    "In this code block we use the method read_csv() to read the data file by using it's relative path. We also display a small subset of the data to see the columns and how the data is displayed using the function glimpse(). We name the data frame after reading the data as player_data."
   ]
  },
  {
   "cell_type": "code",
   "execution_count": null,
   "id": "c5d7226c",
   "metadata": {},
   "outputs": [],
   "source": [
    "colnames(player_data) <- make.names(colnames(player_data))\n",
    "player_data_tidy <- player_data %>%\n",
    "                        separate(Best.Elo.Rank, c(\"Best.Rank\", NA), sep = \" \") %>% #Removes the date next to the all-time best ranks\n",
    "                        separate(Current.Elo.Rank, c(\"Current.Rank\", NA), sep = \" \") %>% #Removes the elo next to the ranks\n",
    "                        separate(Age, c(\"Age\", NA), sep = \" \") %>%\n",
    "                            select(Name, Age, Prize.Money, Seasons, Current.Rank, Best.Rank) %>%\n",
    "                         mutate(Prize.Money = gsub(\"[a-zA-Z$, -]\", \"\", Prize.Money)) %>% #removes all string chars next to numbers, US$ etc.\n",
    "                         mutate(Prize.Money = as.numeric(Prize.Money)) %>%\n",
    "                         mutate(Best.Rank = as.numeric(Best.Rank)) %>%\n",
    "                         mutate(Current.Rank = as.numeric(Current.Rank)) %>%\n",
    "                         mutate(Age = as.numeric(Age)) %>%\n",
    "                        na.omit()\n",
    "\n",
    "kable(head(player_data_tidy),\n",
    "      caption = \"Table 1.0\")"
   ]
  },
  {
   "cell_type": "markdown",
   "id": "d369fb43",
   "metadata": {},
   "source": [
    "In this code block, we wrangled the data and tidied it. In our original data, we had the date next to the best rank. To make our data more readable, we wanted to only include the rank without the date. We did this using the separate() function. We used this same function to remove the points scored in Current.Rank and all the string chars next to the numbers such as currency from the Prize.Money column. Then, we stored the columns Prize.money, Current.Rank, Best.Rank and Age as numeric data.\n",
    "\n",
    "\n",
    "Below, we will use scatter plots to compare the relationships between our variables. This will give us an overview about how each variable affects a player's best ranking. It will also help us determine which variables to omit as it may affect the accuracy of our predictions."
   ]
  },
  {
   "cell_type": "code",
   "execution_count": null,
   "id": "2446eb45",
   "metadata": {},
   "outputs": [],
   "source": [
    "options(repr.plot.length = 10, repr.plot.width = 8)\n",
    "\n",
    "SeasonsVsBestRank <- ggplot(player_data_tidy, aes(x = Seasons, y = Best.Rank)) + \n",
    "                    # geom_smooth(method = \"lm\", colour = \"red\", formula = y ~ x, se = FALSE) + #Line of best fit, helps in seeing relationship\n",
    "                    geom_point(colour = \"blue\", alpha = 0.4) +\n",
    "                     labs(x = \"Seasons Played\", y = \"Best Rank\", \n",
    "                          title = \"Seasons vs Best Rank (lower is better)\",\n",
    "                          caption = \"Figure 1.0\") + \n",
    "                     theme(text = element_text(size = 17))\n",
    "\n",
    "SeasonsVsBestRank"
   ]
  },
  {
   "cell_type": "markdown",
   "id": "67e637b7",
   "metadata": {},
   "source": [
    "In figure 1.0, we are comparing the seasons played to best rank. It appears that these variables have a negative relationship—y tends to decrease as x increases. This means that players who have played more seasons tend to have a higher best rank. "
   ]
  },
  {
   "cell_type": "code",
   "execution_count": null,
   "id": "44d3f529",
   "metadata": {},
   "outputs": [],
   "source": [
    "CurrentRankVsBestRank <- ggplot(player_data_tidy, aes(x = Current.Rank, y = Best.Rank)) + \n",
    "                    geom_point(color = \"blue\", alpha = 0.4) +\n",
    "                     labs(x = \"Current Rank\", y = \"Best Rank\",\n",
    "                          title = \"Current Rank vs Best Rank\",\n",
    "                          caption = \"Figure 1.1\") + \n",
    "                     theme(text = element_text(size = 17)) \n",
    "\n",
    "CurrentRankVsBestRank"
   ]
  },
  {
   "cell_type": "markdown",
   "id": "80a78eca",
   "metadata": {},
   "source": [
    "In figure 1.1, we are comparing a player's current rank to best rank. It appears that these variables have a positive relationship—y tends to increase as x increases. This means that players who have a high current ranking tend to also have a high best ranking. We also noticed that the y value is always equal or less than the x value. That is because a player's current ranking (x value) can not exceed their best ranking (y value)—their current ranking is either equal to their best ranking or at a lower rank. "
   ]
  },
  {
   "cell_type": "code",
   "execution_count": null,
   "id": "9b12bb88",
   "metadata": {},
   "outputs": [],
   "source": [
    "AgeVsSeasons <- ggplot(player_data_tidy, aes(x = Age, y = Seasons)) + \n",
    "                    geom_point(color = \"blue\", alpha = 0.4) +\n",
    "                     labs(x = \"Age\", y = \"Seasons Played\",\n",
    "                          title = \"Age vs Seasons\",\n",
    "                          caption = \"Figure 1.2\") + \n",
    "                     theme(text = element_text(size = 17)) \n",
    "\n",
    "AgeVsSeasons"
   ]
  },
  {
   "cell_type": "markdown",
   "id": "4bb05cfb",
   "metadata": {},
   "source": [
    "In figure 1.2, we can see that the variables Age and seasons are very strongly correlated and have a close relationship with each other. Due to this relationship, multicollinearity can be caused and it will lead to problems. For this reason, we will omit Age as a predictor variable and use Seasons in our analysis."
   ]
  },
  {
   "cell_type": "code",
   "execution_count": null,
   "id": "8114ef2a",
   "metadata": {},
   "outputs": [],
   "source": [
    "PrizeMoneyVsBestRank <- ggplot(player_data_tidy, aes(x = Prize.Money, y = Best.Rank)) + \n",
    "                    geom_point(color = \"blue\", alpha = 0.4) +\n",
    "                     labs(x = \"Prize Money\", y = \"Best Rank\",\n",
    "                          title = \"Prize Money vs Best Rank\",\n",
    "                          caption = \"Figure 2.0\") +  \n",
    "                     theme(text = element_text(size = 17))\n",
    "\n",
    "PrizeMoneyVsBestRank"
   ]
  },
  {
   "cell_type": "markdown",
   "id": "fc65943b",
   "metadata": {},
   "source": [
    "In figure 2.0 we are comparing prize money to best rank. As we can see on the plot, the majority of the data points are located at 0e+00. Since some of the player's prize money are at extremely high values, we are unable to properly view the majority of the data points which are located at the lower values. To fix this problem we will implement log scaling to prize money. This will make the x and y axis at similar scales so that we can properly see the relationships between these variables."
   ]
  },
  {
   "cell_type": "code",
   "execution_count": null,
   "id": "13f64d6a",
   "metadata": {},
   "outputs": [],
   "source": [
    "LogPrizeMoneyVsBestRank <- ggplot(player_data_tidy, aes(x = Prize.Money, y = Best.Rank)) + \n",
    "                    geom_point(color = \"blue\", alpha = 0.4) +\n",
    "                     labs(x = \"Log-Scaled Prize Money\", y = \"Best Rank\",\n",
    "                          title = \"Log-Scaled Prize Money vs Best Rank\",\n",
    "                          caption = \"Figure 2.1\") +  \n",
    "                     theme(text = element_text(size = 17)) +\n",
    "                     scale_x_log10()\n",
    "\n",
    "LogPrizeMoneyVsBestRank"
   ]
  },
  {
   "cell_type": "markdown",
   "id": "1d45cc2f",
   "metadata": {},
   "source": [
    "In figure 2.1, prize money is log-scaled and is compared to best rank. It appears that these variables have a negative relationship—y tends to decrease as x increases. This means that players who have a higher value of prize money tend to also have a high best ranking. The overall shape is roughly linear before 1e+07 on the x axis, after this point, the data flattens out. The relationship between the variables is fairly strong as the y variable reliably decreases as x increases.\n",
    "\n",
    "\n",
    "Below, we will use KNN regression for our data analysis. We will use regression instead of classification because we want to determine a player's best rank, which is a numerical value. We chose KNN regression over linear regression because some of the relationships between the variables are not very linear. For example in figure 1.0 and figure 1.1, although the y value either tends to increase or decrease, the data points are still quite scattered. To take this into account, we will use KNN regression. "
   ]
  },
  {
   "cell_type": "code",
   "execution_count": null,
   "id": "248a140b",
   "metadata": {},
   "outputs": [],
   "source": [
    "log_player_data_tidy <- player_data_tidy %>%\n",
    "                            mutate(Prize.Money = log(Prize.Money))"
   ]
  },
  {
   "cell_type": "markdown",
   "id": "6f3cbff0",
   "metadata": {},
   "source": [
    "In this code, we mutate the prize money column into a log scaled value for further analysis. "
   ]
  },
  {
   "cell_type": "code",
   "execution_count": null,
   "id": "588f26ab",
   "metadata": {},
   "outputs": [],
   "source": [
    "set.seed(4747)\n",
    "\n",
    "\n",
    "player_split <- initial_split(log_player_data_tidy)\n",
    "player_training <- training(player_split)\n",
    "player_testing <- testing(player_split)"
   ]
  },
  {
   "cell_type": "code",
   "execution_count": null,
   "id": "9e2da1c9",
   "metadata": {},
   "outputs": [],
   "source": [
    "set.seed(4747)\n",
    "\n",
    "player_vfold <- vfold_cv(player_training, v = 5, strata = Best.Rank)\n",
    "k_vals <- tibble(neighbors = seq(from = 1, to = 100, by = 1))\n",
    "\n",
    "player_recipe <- recipe(Best.Rank ~ Seasons + Prize.Money + Current.Rank, data = player_training) %>% \n",
    "                        step_scale(all_predictors()) %>%\n",
    "                        step_center(all_predictors())\n",
    "\n",
    "knn_spec_tune <- nearest_neighbor(weight_func = \"rectangular\", neighbors = tune()) %>%\n",
    "                set_engine(\"kknn\") %>%\n",
    "                set_mode(\"regression\")\n",
    "\n",
    "player_resamples_metrics <- workflow() %>%\n",
    "                            add_model(knn_spec_tune) %>%\n",
    "                            add_recipe(player_recipe) %>%\n",
    "                            tune_grid(resamples = player_vfold, grid = k_vals) %>%\n",
    "                            collect_metrics()"
   ]
  },
  {
   "cell_type": "code",
   "execution_count": null,
   "id": "9a2d78b9",
   "metadata": {},
   "outputs": [],
   "source": [
    "resamples_metrics_clean <- player_resamples_metrics %>%\n",
    "                                filter(.metric == \"rmse\") %>%\n",
    "                                arrange(mean) %>%\n",
    "                                slice(1) %>%\n",
    "                                select(-.estimator, -n, -.config)\n",
    "\n",
    "kable(resamples_metrics_clean, caption = \"Table 2.0\")"
   ]
  },
  {
   "cell_type": "markdown",
   "id": "401d9cfc",
   "metadata": {},
   "source": [
    "In the coding above, we split the data into training and testing sets. Next, using our training data, we run cross validation to find the best k value. Using neighbors ranging from 1 to 100, we tuned the model so that it returns the RMSE for each number of neighbors. We will use the neighbor with the lowest RMSE as the best k value. In table 2.0, we used the arrange and slice function to show the neighbor that has the lowest RMSE. In this case, our best k value is 10. "
   ]
  },
  {
   "cell_type": "code",
   "execution_count": null,
   "id": "614f593b",
   "metadata": {},
   "outputs": [],
   "source": [
    "set.seed(4747)\n",
    "\n",
    "best_k <- resamples_metrics_clean %>%\n",
    "            select(neighbors) %>%\n",
    "            pull()\n",
    "\n",
    "knn_spec <- nearest_neighbor(weight_func = \"rectangular\", neighbors = best_k) %>%\n",
    "                set_engine(\"kknn\") %>%\n",
    "                set_mode(\"regression\")\n",
    "\n",
    "knn_fit <- workflow() %>%\n",
    "            add_model(knn_spec) %>%\n",
    "            add_recipe(player_recipe) %>%\n",
    "            fit(player_training) \n",
    "\n",
    "knn_predict <- predict(knn_fit, player_testing) %>%\n",
    "                bind_cols(player_testing)\n",
    "\n",
    "knn_metrics <- metrics(knn_predict, truth = Best.Rank, estimate = .pred)\n",
    "\n",
    "knn_fit"
   ]
  },
  {
   "cell_type": "markdown",
   "id": "88e34b5a",
   "metadata": {},
   "source": [
    "In this code, we are evaluating the test set with k = 10. We will analyze our results using the two tables below."
   ]
  },
  {
   "cell_type": "code",
   "execution_count": null,
   "id": "a909101d",
   "metadata": {},
   "outputs": [],
   "source": [
    "kable(head(knn_predict),\n",
    "      caption = \"Table 3.0\")"
   ]
  },
  {
   "cell_type": "markdown",
   "id": "95a7280f",
   "metadata": {},
   "source": [
    "In table 3.0, we can compare our predictions with the actual values. This table only shows the first few columns. "
   ]
  },
  {
   "cell_type": "code",
   "execution_count": null,
   "id": "0ad2288e",
   "metadata": {},
   "outputs": [],
   "source": [
    "kable(head(knn_metrics), \n",
    "      caption = \"Table 3.1\")"
   ]
  },
  {
   "cell_type": "markdown",
   "id": "6d8e18dd",
   "metadata": {},
   "source": [
    "Table 3.1 shows us the RMSE of our KNN regression model. Our RMSE value is 18.1065986."
   ]
  },
  {
   "cell_type": "code",
   "execution_count": null,
   "id": "aedb7996",
   "metadata": {},
   "outputs": [],
   "source": [
    "pred_current_rank <- ggplot(knn_predict, aes(x = Current.Rank, y = Best.Rank)) + \n",
    "                    geom_point(color = \"blue\", alpha = 0.4) +\n",
    "                    geom_line(aes(x = Current.Rank, y = .pred), color = \"red\") +\n",
    "                     labs(x = \"Current Rank\", y = \"Best Rank\",\n",
    "                          title = paste(\"Current Rank vs Best Rank, k =\", best_k, sep = \" \"),\n",
    "                          caption = \"Figure 3.0\") +  \n",
    "                     theme(text = element_text(size = 17))\n",
    "pred_current_rank"
   ]
  },
  {
   "cell_type": "markdown",
   "id": "d21afdbd",
   "metadata": {},
   "source": [
    "Figure 3.0 shows the KNN regression model for Best rank vs Current rank with K = 10. It has an increasing trend, indicating that as current rank increases, the best rank also increases."
   ]
  },
  {
   "cell_type": "code",
   "execution_count": null,
   "id": "d3c56feb",
   "metadata": {},
   "outputs": [],
   "source": [
    "pred_prize_money <- ggplot(knn_predict, aes(x = Prize.Money, y = Best.Rank)) + \n",
    "                    geom_point(color = \"blue\", alpha = 0.4) +\n",
    "                    geom_line(aes(x = Prize.Money, y = .pred), color = \"red\") +\n",
    "                     labs(x = \"Prize Money\", y = \"Best Rank\",\n",
    "                          title = paste(\"Prize Money vs Best Rank, k =\", best_k, sep = \" \"),\n",
    "                          caption = \"Figure 3.1\") +  \n",
    "                     theme(text = element_text(size = 17))\n",
    "pred_prize_money"
   ]
  },
  {
   "cell_type": "markdown",
   "id": "a23bca73",
   "metadata": {},
   "source": [
    "Figure 3.1 shows the KNN regression model for Best rank vs Prize money with K = 10. It has an overall decreasing trend. As prize money increases, best rank decreases, indicating that the player is ranked higher."
   ]
  },
  {
   "cell_type": "code",
   "execution_count": null,
   "id": "e8d5ca04",
   "metadata": {},
   "outputs": [],
   "source": [
    "pred_seasons <- ggplot(knn_predict, aes(x = Seasons, y = Best.Rank)) + \n",
    "                    geom_point(color = \"blue\", alpha = 0.4) +\n",
    "                    geom_line(aes(x = Seasons, y = .pred), color = \"red\") +\n",
    "                     labs(x = \"Seasons Played\", y = \"Best Rank\",\n",
    "                          title = paste(\"Seasons Played vs Best Rank, k =\", best_k, sep = \" \"),\n",
    "                          caption = \"Figure 3.2\") +  \n",
    "                     theme(text = element_text(size = 17))\n",
    "pred_seasons"
   ]
  },
  {
   "cell_type": "markdown",
   "id": "294d9e0d",
   "metadata": {},
   "source": [
    "Figure 3.2 shows that the KNN regression model for Seasons played vs Best rank with K = 10. It has an overall decreasing trend, indicating that as players attend more seasons, they also tend to have higher best ranks."
   ]
  },
  {
   "cell_type": "markdown",
   "id": "abb723f1",
   "metadata": {},
   "source": [
    "**Discussion**\n",
    "\n",
    "- We see clear relationships from our data analysis. As the prize money increases, the best rank decreases, indicating that these players are ranked higher. This was expected because top players earn more prize money from winning games. [4]\n",
    "\n",
    "- As the seasons played increase, the best rank decreases, indicating that these players are at a higher rank. This was expected because players gain vital experience in the previous seasons and to improve themselves, which is the key role in getting better and therefore ranking higher.\n",
    "\n",
    "- As current rank increases, their best rank also increases. This means that if a player's current rank is lower than their best rank, it may indicate that the player's performance has been declining. Whereas if their current rank is equal to their best rank, it may indicate improvement. \n",
    "\n",
    "- These findings could help the Sport industry select potential athletes and predict their success. Sport universities could use seasons played, prize money, and current rank to determine which athletes they would like to admit in competitions.\n",
    "\n",
    "- Using only Seasons, Prize Money and Current Rank as predictors for athlete rank is not very accurate because ranks can be influenced by many other factors which are not present in this dataset. For example, weather on the game day, psychological quality of athletes, brands of shoes and sportswear could be potential factors for athlete grades. The physical trait also matters to a great extent of their performance and rank. Future questions could focus on addressing these problems by exploring other variables that have relationships with best rank.\n",
    "\n",
    "- These plots also show that there are a few outliers where people start off very well, and even with a very few seasons, acquire a good rank. These outliers could have affected our results.\n",
    "\n",
    "- A root mean square error of 18.1066 is not too big. However, as the data set has 500 players involved, a few errors could have occured in the analysis. An R squared value of 0.84 means that most of the data points were included in our analysis, which is good because having more data can improve our predictions.\n"
   ]
  },
  {
   "cell_type": "markdown",
   "id": "68546165",
   "metadata": {},
   "source": [
    "**References**\n",
    "1. Bruce, Morys George Lyndhurst , Aberdare, 4th Baron and Lorge, Barry Steven. \"tennis\". Encyclopedia Britannica, 4 Jun. 2021, https://www.britannica.com/sports/tennis.\n",
    "2. Tennis Scoring: Points, Sets & Games | Tennis Rules | USTA. (n.d.). Tennis Scoring: Points, Sets & Games | Tennis Rules | USTA. https://www.usta.com/en/home/improve/tips-and-instruction/national/tennis-scoring-rules.html.\n",
    "3. Sackmann, J. (2015). GitHub - JeffSackmann/tennis_atp: ATP Tennis Rankings, Results, and Stats. GitHub. https://github.com/JeffSackmann/tennis_atp\n",
    "4. Spiegel, J. (2021, September 12). Us open prize money: How much will the winners make in 2021? Purse, breakdown for field. Sporting News Canada. Retrieved December 8, 2021.\n",
    "https://www.sportingnews.com/ca/tennis/news/us-open-prize-money-2021-purse-breakdown/jtbepmuo3vmu1xm049906xs2i. "
   ]
  },
  {
   "cell_type": "code",
   "execution_count": null,
   "id": "df6abcd0",
   "metadata": {},
   "outputs": [],
   "source": []
  }
 ],
 "metadata": {
  "kernelspec": {
   "display_name": "R",
   "language": "R",
   "name": "ir"
  },
  "language_info": {
   "codemirror_mode": "r",
   "file_extension": ".r",
   "mimetype": "text/x-r-source",
   "name": "R",
   "pygments_lexer": "r",
   "version": "4.1.1"
  }
 },
 "nbformat": 4,
 "nbformat_minor": 5
}
